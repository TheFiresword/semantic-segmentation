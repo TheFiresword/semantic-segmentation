{
  "cells": [
    {
      "cell_type": "code",
      "execution_count": 1,
      "metadata": {
        "id": "iEdoboZGvbAL"
      },
      "outputs": [],
      "source": [
        "! pip install pycocotools scikit-image tensorboard\n",
        "! pip install roboflow numpy==1.25\n",
        "from roboflow import Roboflow\n",
        "from pycocotools.coco import COCO\n",
        "import pycocotools.mask as mask_utils\n",
        "from pycocotools.cocoeval import COCOeval\n",
        "import matplotlib.pyplot as plt\n",
        "import cv2\n",
        "import seaborn as sns\n",
        "from skimage import draw as sk_draw\n",
        "import numpy as np\n",
        "from tqdm import tqdm\n",
        "from statistics import mean\n",
        "import os\n",
        "import contextlib\n",
        "import io\n",
        "from IPython.display import clear_output\n",
        "clear_output()"
      ]
    },
    {
      "cell_type": "code",
      "execution_count": 2,
      "metadata": {
        "colab": {
          "base_uri": "https://localhost:8080/"
        },
        "id": "uN0ROFtsvbAN",
        "outputId": "a129bfdd-394a-4f25-dc73-d929d582ab0a"
      },
      "outputs": [
        {
          "name": "stdout",
          "output_type": "stream",
          "text": [
            "/home/junior/Documents/stage-4a-SEDOGBO/model/model1/semi_supervised\n"
          ]
        }
      ],
      "source": [
        "HOME = os.getcwd()\n",
        "LOG_DIR=\"metrics/\"\n",
        "print(HOME)"
      ]
    },
    {
      "cell_type": "code",
      "execution_count": 3,
      "metadata": {
        "collapsed": true,
        "id": "olfkaWoBvbAP"
      },
      "outputs": [],
      "source": [
        "#! pip uninstall -y torch torchvision\n",
        "! pip install torch>=2.0.0 torchvision>=0.10.0\n",
        "\n",
        "import torch\n",
        "print(torch.__version__)\n",
        "print(torch.cuda.is_available())\n",
        "device = 'cuda' if torch.cuda.is_available() else 'cpu'\n",
        "\n",
        "from torch.utils.tensorboard import SummaryWriter\n",
        "from torch.utils.data import Dataset, DataLoader\n",
        "import torchvision.models.segmentation\n",
        "from torchvision.models.detection.faster_rcnn import FastRCNNPredictor\n",
        "from torchvision import transforms\n",
        "\n",
        "clear_output()"
      ]
    },
    {
      "cell_type": "code",
      "execution_count": 4,
      "metadata": {
        "id": "2o5H6xY-vbAP"
      },
      "outputs": [],
      "source": [
        "!pip install roboflow\n",
        "rf = Roboflow(api_key=\"K72bvIl0rTcvckcth1sm\")\n",
        "#project = rf.workspace(\"insa-3ptmt\").project(\"simplified\")\n",
        "#version = project.version(2)\n",
        "\n",
        "#project = rf.workspace(\"insa-3ptmt\").project(\"deep_forest\")\n",
        "#version = project.version(1)\n",
        "\n",
        "project = rf.workspace(\"insa-3ptmt\").project(\"final-tree-detection\")\n",
        "version = project.version(5)\n",
        "\n",
        "dataset = version.download(\"coco-segmentation\")\n",
        "clear_output()"
      ]
    },
    {
      "cell_type": "code",
      "execution_count": 5,
      "metadata": {
        "id": "axWazUeMvbAQ"
      },
      "outputs": [],
      "source": [
        "class CustomCOCODataset(Dataset):\n",
        "    def __init__(self, coco_json_path, transform, image_dir, imageSize : list[int]):\n",
        "        with contextlib.redirect_stdout(io.StringIO()):\n",
        "            self.coco = COCO(coco_json_path)\n",
        "        self.image_dir = image_dir\n",
        "        self.transform = transform\n",
        "        self.image_ids = list(self.coco.imgs.keys())\n",
        "        self.imageSize = imageSize\n",
        "        self.annFile = coco_json_path\n",
        "\n",
        "    def __len__(self):\n",
        "        return len(self.image_ids)\n",
        "\n",
        "    def __getitem__(self, idx):\n",
        "        img_id = self.image_ids[idx]\n",
        "        img_info = self.coco.loadImgs(img_id)\n",
        "        assert len(img_info) == 1, f\"Plus d'une annotation pour l'image {img_id}\"\n",
        "        img_info = img_info[0]\n",
        "        img_path = os.path.join(self.image_dir, img_info['file_name'])\n",
        "        image = cv2.imread(img_path) #Image.open(img_path)\n",
        "        image = cv2.cvtColor(image, cv2.COLOR_BGR2RGB)\n",
        "        image = cv2.resize(image, self.imageSize, cv2.INTER_LINEAR)\n",
        "        image = torch.as_tensor(image, dtype=torch.float32)\n",
        "        image /= 255.0\n",
        "        \n",
        "        ann_ids = self.coco.getAnnIds(img_id)\n",
        "        anns = self.coco.loadAnns(ann_ids)\n",
        "        num_objects = len(anns)\n",
        "        #print(\"Image\", img_path, \"avec id = \", img_id, \"comporte \", len(anns), \" annotations\")\n",
        "        masks = np.zeros((num_objects, self.imageSize[0], self.imageSize[1]), dtype=np.uint8)\n",
        "        all_bboxes = torch.zeros([num_objects,4], dtype=torch.float32)\n",
        "        object_number = 1\n",
        "        for index, ann in enumerate(anns):\n",
        "            x_min, y_min, width, height = ann['bbox']\n",
        "            normalized_bbox = (x_min, y_min, x_min + width, y_min + height)\n",
        "            all_bboxes[index] = torch.tensor(normalized_bbox)\n",
        "            for seg in ann['segmentation']:\n",
        "                rr, cc = sk_draw.polygon(seg[1::2], seg[0::2], masks[index].shape)\n",
        "                masks[index, rr, cc] = min(object_number, 254)\n",
        "                object_number += 1\n",
        "\n",
        "        image = image.swapaxes(0, 2).swapaxes(1, 2)\n",
        "        masks = (masks > 0).astype(bool)\n",
        "        data = {\"boxes\": all_bboxes, \"labels\": torch.ones((num_objects, ), dtype=torch.int64),\n",
        "                \"masks\": masks, \"image_id\": img_id}\n",
        "        #print(\"Mask -- shape : \", masks.shape, \"minimum = \", torch.min(torch.tensor(masks)).item(), 'maximum = ', torch.max(torch.tensor(masks)).item())\n",
        "        #print(\"Original image -- shape : \", image.shape, \"minimum = \", torch.min(image).item(), 'maximum = ', torch.max(image).item())\n",
        "\n",
        "        return image, data"
      ]
    },
    {
      "cell_type": "code",
      "execution_count": 6,
      "metadata": {
        "id": "Nx3M1lJrvbAR"
      },
      "outputs": [],
      "source": [
        "DATASET_PATH = \"final-tree-detection-5/\"\n",
        "train_coco_json_path = DATASET_PATH+'train/_annotations.coco.json'\n",
        "valid_coco_json_path = DATASET_PATH+'valid/_annotations.coco.json'\n",
        "test_coco_json_path = DATASET_PATH+'test/_annotations.coco.json'\n",
        "\n",
        "transform = transforms.Compose([\n",
        "    transforms.ToTensor()\n",
        "])"
      ]
    },
    {
      "cell_type": "code",
      "execution_count": 7,
      "metadata": {
        "colab": {
          "base_uri": "https://localhost:8080/"
        },
        "id": "4iCtDYDPvbAS",
        "outputId": "39e30c01-1613-4dc6-c316-b6c26ff07c19"
      },
      "outputs": [],
      "source": [
        "def collate_fn(batch):\n",
        "    images = []\n",
        "    targets = []\n",
        "    for sample in batch:\n",
        "        images.append(sample[0])\n",
        "        targets.append(sample[1])\n",
        "\n",
        "    images = torch.stack(images, dim=0)\n",
        "\n",
        "    return images, targets\n",
        "imageSize = [1024, 1024]\n",
        "train_dataset = CustomCOCODataset(train_coco_json_path, transform, DATASET_PATH+\"train\", imageSize = imageSize)\n",
        "valid_dataset = CustomCOCODataset(valid_coco_json_path, transform, DATASET_PATH+\"valid\", imageSize = imageSize)\n",
        "test_dataset = CustomCOCODataset(test_coco_json_path, transform, DATASET_PATH+\"test\", imageSize = imageSize)\n",
        "\n",
        "train_dataloader = DataLoader(train_dataset, batch_size=2, shuffle=True, drop_last=False, collate_fn=collate_fn)\n",
        "valid_dataloader = DataLoader(valid_dataset, batch_size=2, shuffle=False, drop_last=False, collate_fn=collate_fn)\n",
        "test_dataloader = DataLoader(test_dataset, batch_size=2, shuffle=False, collate_fn=collate_fn)\n",
        "#clear_output()"
      ]
    },
    {
      "cell_type": "code",
      "execution_count": 8,
      "metadata": {
        "colab": {
          "base_uri": "https://localhost:8080/"
        },
        "id": "CTauwQQdvbAT",
        "outputId": "0b1322f8-c138-4a33-bacf-8d1991b10b01"
      },
      "outputs": [],
      "source": [
        "def show_mask(random_color=False):\n",
        "    images, targets = next(iter(valid_dataloader))\n",
        "    print(\"Images batch shape = \", images.shape)\n",
        "    image, target = images[0], targets[0]\n",
        "    fig, axes = plt.subplots(nrows=1, ncols=2, figsize=(20, 10))\n",
        "\n",
        "    for ax in axes:\n",
        "        ax.grid(False)\n",
        "        ax.axis('off')\n",
        "    bg = image.permute(1, 2, 0).cpu().numpy()\n",
        "    bg = (bg * 255.0).astype(np.uint8)\n",
        "    msk = bg.copy()\n",
        "\n",
        "    axes[0].imshow(bg)\n",
        "    axes[1].imshow(msk)\n",
        "    ground_truth_seg = np.array(target[\"masks\"])\n",
        "    h, w = ground_truth_seg.shape[-2:]\n",
        "    for mask in ground_truth_seg:\n",
        "        if random_color:\n",
        "            color = np.concatenate([np.random.random(3), np.array([0.3])], axis=0)\n",
        "        else:\n",
        "            color = np.array([30/255, 144/255, 255/255, 0.5])\n",
        "        mask_image = mask.reshape(h, w, 1) * color.reshape(1, 1, -1)\n",
        "        ax.imshow(mask_image)\n",
        "\n",
        "#show_mask(random_color=True)"
      ]
    },
    {
      "cell_type": "code",
      "execution_count": 9,
      "metadata": {
        "id": "Za595SHvgSFB"
      },
      "outputs": [],
      "source": [
        "def find_bounding_boxes_multiple_masks(masks):\n",
        "    all_bounding_boxes = np.zeros(shape=(len(masks, 4)))\n",
        "    for index, mask in enumerate(masks):\n",
        "        rows, cols = np.nonzero(mask)\n",
        "        if rows.size == 0 or cols.size == 0:\n",
        "            continue        \n",
        "        x_min = np.min(cols)\n",
        "        x_max = np.max(cols)\n",
        "        y_min = np.min(rows)\n",
        "        y_max = np.max(rows)\n",
        "        x = x_min\n",
        "        y = y_min\n",
        "        w = x_max - x_min + 1\n",
        "        h = y_max - y_min + 1\n",
        "        bounding_box = [x, y, x + w, y + h]\n",
        "        all_bounding_boxes[index] = bounding_box\n",
        "    return all_bounding_boxes\n",
        "\n",
        "def calculate_iou(mask1, mask2):\n",
        "    intersection = mask1 & mask2\n",
        "    union = mask1 | mask2\n",
        "    iou = np.sum(intersection) / np.sum(union)\n",
        "    return iou\n",
        "\n",
        "from scipy.optimize import linear_sum_assignment\n",
        "def match_masks(pred_masks, gt_masks, iou_threshold=0.5):\n",
        "    num_pred = len(pred_masks)\n",
        "    num_gt = len(gt_masks)\n",
        "    iou_matrix = np.zeros((num_gt, num_pred))\n",
        "    for i in range(num_gt):\n",
        "        for j in range(num_pred):\n",
        "            iou_matrix[i, j] = calculate_iou(gt_masks[i], pred_masks[j])\n",
        "    iou_matrix[iou_matrix < iou_threshold] = 0\n",
        "    row_indices, col_indices = linear_sum_assignment(-iou_matrix)\n",
        "    correspondances = []\n",
        "    used_pred_indices = set()\n",
        "    for gt_idx, pred_idx in zip(row_indices, col_indices):\n",
        "        if iou_matrix[gt_idx, pred_idx] >= iou_threshold and pred_idx not in used_pred_indices:\n",
        "            correspondances.append([gt_idx, pred_idx, iou_matrix[gt_idx, pred_idx]])\n",
        "            used_pred_indices.add(pred_idx)\n",
        "    return np.array(correspondances)\n",
        "\n",
        "def precision_score(groundtruth_masks, pred_masks):\n",
        "    intersect = np.sum(pred_masks * groundtruth_masks, axis=(1, 2))\n",
        "    total_pixel_pred = np.sum(pred_masks, axis=(1, 2))\n",
        "    precision = np.where(total_pixel_pred == 0, 0.0, intersect / total_pixel_pred)\n",
        "    precision = np.round(precision, 3)\n",
        "    return precision.tolist()\n",
        "\n",
        "def recall_score(groundtruth_masks, pred_masks):\n",
        "    intersect = np.sum(pred_masks * groundtruth_masks, axis=(1, 2))\n",
        "    total_pixel_gt = np.sum(groundtruth_masks, axis=(1, 2))\n",
        "    recall = np.where(total_pixel_gt == 0, 0.0, intersect / total_pixel_gt)\n",
        "    recall = np.round(recall, 3)\n",
        "    return recall.tolist()\n",
        "\n",
        "def calculate_metrics(pred_masks, gt_masks, iou_threshold=0.5, confidence=0.5):\n",
        "    #print(\"Nombres de masques : --prédits = \", len(pred_masks),\" --vrais = \", len(gt_masks))\n",
        "    pred_masks = pred_masks >= confidence\n",
        "    gt_masks = gt_masks >= confidence\n",
        "    correspondances = match_masks(pred_masks, gt_masks, iou_threshold)\n",
        "    if len(gt_masks) != 0:\n",
        "        avg_precision = precision_score(gt_masks[correspondances[:, 0].astype(int)], pred_masks[correspondances[:, 1].astype(int)])\n",
        "        avg_recall = recall_score(gt_masks[correspondances[:, 0].astype(int)], pred_masks[correspondances[:, 1].astype(int)])\n",
        "        avg_iou = correspondances[:, -1].tolist()\n",
        "    else:\n",
        "        avg_precision, avg_recall, avg_iou = [0], [0], [0]\n",
        "    # Calculer les faux positifs (FP) et les faux négatifs (FN)\n",
        "    fp_count = len(pred_masks) - len(correspondances)\n",
        "    fn_count = len(gt_masks) - len(correspondances)\n",
        "    #print(f\"Nombre de faux positifs = {fp_count} et nombre de faux négatifs = {fn_count}\")\n",
        "    # Ajouter des précisions/rappels de 0 pour chaque faux positif et faux négatif\n",
        "    avg_precision.extend([0] * fp_count)\n",
        "    avg_recall.extend([0] * fn_count)\n",
        "    avg_iou.extend([0] * (fp_count + fn_count))\n",
        "    avg_precision_value = np.mean(avg_precision) if len(avg_precision) != 0 else 0\n",
        "    avg_recall_value = np.mean(avg_recall) if len(avg_recall) != 0 else 0\n",
        "    avg_iou_value = np.mean(avg_iou) if len(avg_iou) != 0 else 0\n",
        "    return avg_precision_value, avg_recall_value, avg_iou_value\n"
      ]
    },
    {
      "cell_type": "code",
      "execution_count": 10,
      "metadata": {},
      "outputs": [],
      "source": [
        "import numpy as np\n",
        "def launch_test():\n",
        "    np.random.seed(47)\n",
        "    gt_masks = np.random.randint(0, 2, (100, 1024, 1024))\n",
        "    #pred_masks = np.vstack([gt_masks + np.random.randn(100, 1024, 1024),  np.random.randint(0, 2, (5, 1024, 1024))])\n",
        "    pred_masks = gt_masks[0:85, :] + np.random.randn(85, 1024, 1024)\n",
        "    print(pred_masks.shape)\n",
        "    precision, recall, iou = calculate_metrics(pred_masks, gt_masks, iou_threshold=0.5, confidence=0.5)\n",
        "    print(f'Précision: {precision:.3f}')\n",
        "    print(f'Rappel: {recall:.3f}')\n",
        "    print(f'iou : {iou}')\n",
        "    \n",
        "#launch_test()"
      ]
    },
    {
      "cell_type": "code",
      "execution_count": 11,
      "metadata": {
        "id": "46RQI4Q9bdiW"
      },
      "outputs": [],
      "source": [
        "def evaluate(model, data_loader, device, iou_threshold = 0.5, confidence=0.5):\n",
        "    # Evaluate the model over a dataset and compute/log metrics\n",
        "    # This function does is composed of 2 main parts\n",
        "    #===================================================================#\n",
        "    # getting losses infos #\n",
        "    #===================================================================#\n",
        "    model.train()\n",
        "    batch_losses = {\"val_box_loss\": [], \"val_seg_loss\": [], \"val_cls_loss\": [], \"val_global\": []}\n",
        "    with torch.no_grad():\n",
        "        for val_batch in valid_dataloader:\n",
        "            images, targets = val_batch\n",
        "            images = list(image.to(device) for image in images)\n",
        "            targets=[{k: torch.as_tensor(v).to(device) for k,v in t.items()} for t in targets]\n",
        "            val_loss_dict = model(images, targets)\n",
        "            val_losses = sum(loss for loss in val_loss_dict.values())\n",
        "            # Model output keys : loss_classifier, loss_box_reg, loss_mask, loss_objectness, loss_rpn_box_reg\n",
        "            batch_losses[\"val_box_loss\"].append(val_loss_dict[\"loss_box_reg\"].item())\n",
        "            batch_losses[\"val_seg_loss\"].append(val_loss_dict[\"loss_mask\"].item())\n",
        "            batch_losses[\"val_cls_loss\"].append(val_loss_dict[\"loss_classifier\"].item())\n",
        "            batch_losses[\"val_global\"].append(val_losses.item())\n",
        "\n",
        "    for k in batch_losses.keys():\n",
        "        batch_losses[k] = mean(batch_losses[k])\n",
        "\n",
        "    #===================================================================#\n",
        "    # getting metrics #\n",
        "    #===================================================================#\n",
        "    model.eval()\n",
        "    with contextlib.redirect_stdout(io.StringIO()):\n",
        "        coco = COCO(data_loader.dataset.annFile)\n",
        "    coco_results = []\n",
        "    precision_epoch, recall_epoch, iou_epoch = [], [], []\n",
        "    with torch.no_grad():\n",
        "        for images, targets in data_loader:\n",
        "            images = list(img.to(device) for img in images)\n",
        "            targets=[{k: torch.as_tensor(v).to(device) for k,v in t.items()} for t in targets]\n",
        "            outputs = model(images)\n",
        "            #print(\"predictions masks : \", outputs[0][\"masks\"].shape)\n",
        "            for i, output in enumerate(outputs):\n",
        "                #boxes = output['boxes'].cpu().numpy()\n",
        "                #scores = output['scores'].cpu().numpy()\n",
        "                #labels = output['labels'].cpu().numpy()\n",
        "                masks = output['masks'].cpu().numpy()\n",
        "                gt_masks = targets[i]['masks'].cpu().numpy()\n",
        "                precision_one_img, recall_one_img, iou_one_img = calculate_metrics(np.squeeze(masks, axis=1), gt_masks, \n",
        "                                                        iou_threshold=iou_threshold, confidence=confidence)                \n",
        "                precision_epoch.append(precision_one_img)\n",
        "                recall_epoch.append(recall_one_img)\n",
        "                iou_epoch.append(iou_one_img)\n",
        "                #print(\"Nombre de bbox prédites : \", len(boxes))\n",
        "                '''\n",
        "                for j in range(len(boxes)):\n",
        "                    box = boxes[j]\n",
        "                    score = scores[j]\n",
        "                    label = labels[j]\n",
        "                    mask = masks[j][0]\n",
        "                    #print(\"Mask for box : \", mask.shape, mask)\n",
        "                    mask = (mask * 255).astype(np.uint8)\n",
        "                    coco_results.append({\n",
        "                        'image_id': targets[i][\"image_id\"].item(),\n",
        "                        'category_id': int(label),\n",
        "                        'bbox': box.tolist(),\n",
        "                        'score': float(score),\n",
        "                        'segmentation': mask_utils.encode(np.asfortranarray(mask))\n",
        "                    })\n",
        "                '''\n",
        "    precision_epoch = np.mean(precision_epoch)\n",
        "    recall_epoch = np.mean(recall_epoch)\n",
        "    iou_epoch = np.mean(iou_epoch)\n",
        "    # COCO metrics evaluation\n",
        "    #with contextlib.redirect_stdout(io.StringIO()):\n",
        "    #    coco_dt = coco.loadRes(coco_results)\n",
        "    #    coco_eval = COCOeval(coco, coco_dt, iouType='segm')\n",
        "    #    coco_eval.evaluate()\n",
        "    #    coco_eval.accumulate()\n",
        "    #    coco_eval.summarize()\n",
        "    # IoU computation    \n",
        "    #metrics = {\"mAP\": coco_eval.stats[0], \"AP50\": coco_eval.stats[1], \"IoU\": mean_iou}\n",
        "    metrics = {\"precision\": precision_epoch, \"recall\": recall_epoch, \"IoU\": iou_epoch}\n",
        "    print(\"Metriques : \", metrics)\n",
        "    for k in batch_losses.keys():\n",
        "        metrics[k] = batch_losses[k]\n",
        "    return metrics"
      ]
    },
    {
      "cell_type": "code",
      "execution_count": 12,
      "metadata": {
        "id": "STk3qUF7vbAW"
      },
      "outputs": [],
      "source": [
        "def fine_tune(model, optimizer, writer, num_epochs, train_dataloader, valid_dataloader = None):\n",
        "    num_steps = len(train_dataloader)\n",
        "    for epoch in range(num_epochs):\n",
        "        batch_losses = {\"box_loss\": [], \"seg_loss\": [], \"cls_loss\": [], \"global\": []}\n",
        "        print(f'Epoch [{epoch+1}/{num_epochs}]')\n",
        "        for index, train_batch in enumerate((pbatch := tqdm(train_dataloader, colour='green'))):\n",
        "            model.train()\n",
        "            optimizer.zero_grad()\n",
        "            images, targets = train_batch\n",
        "            images = list(image.to(device) for image in images)\n",
        "            targets=[{k: torch.as_tensor(v).to(device) for k,v in t.items()} for t in targets]\n",
        "            loss_dict = model(images, targets)\n",
        "\n",
        "            losses = sum(loss for loss in loss_dict.values())\n",
        "            #Model output keys : loss_classifier, loss_box_reg, loss_mask, loss_objectness, loss_rpn_box_reg\n",
        "            batch_losses[\"box_loss\"].append(loss_dict[\"loss_box_reg\"].item())\n",
        "            batch_losses[\"seg_loss\"].append(loss_dict[\"loss_mask\"].item())\n",
        "            batch_losses[\"cls_loss\"].append(loss_dict[\"loss_classifier\"].item())\n",
        "            batch_losses[\"global\"].append(losses.item())\n",
        "            losses.backward()\n",
        "            optimizer.step()\n",
        "\n",
        "            if index == num_steps-1:\n",
        "                for k in batch_losses.keys():\n",
        "                    batch_losses[k] = mean(batch_losses[k])\n",
        "                    writer.add_scalar(k, batch_losses[k], epoch)\n",
        "                if valid_dataloader is not None:\n",
        "                    #Validation loop\n",
        "                    metrics = evaluate(model, valid_dataloader, device)\n",
        "                    for k in metrics.keys():\n",
        "                        writer.add_scalar(k, metrics[k], epoch)\n",
        "        if epoch % 10 == 0:\n",
        "            torch.save(model.state_dict(), f\"model{epoch}.torch\")\n",
        "    writer.flush()"
      ]
    },
    {
      "cell_type": "code",
      "execution_count": 13,
      "metadata": {
        "colab": {
          "base_uri": "https://localhost:8080/"
        },
        "id": "P39jvYZnvbAU",
        "outputId": "896090ae-6c37-4078-95eb-bb5c426e83e3"
      },
      "outputs": [],
      "source": [
        "model=torchvision.models.detection.maskrcnn_resnet50_fpn(weights=\"MaskRCNN_ResNet50_FPN_Weights.COCO_V1\")"
      ]
    },
    {
      "cell_type": "code",
      "execution_count": 14,
      "metadata": {
        "id": "lAA8LYy0vbAV"
      },
      "outputs": [],
      "source": [
        "in_features = model.roi_heads.box_predictor.cls_score.in_features\n",
        "model.roi_heads.box_predictor=FastRCNNPredictor(in_features,num_classes=2)\n",
        "optimizer = torch.optim.AdamW(params=model.parameters(), lr=1e-5)\n",
        "writer = SummaryWriter(log_dir=LOG_DIR)\n",
        "model.to(device)\n",
        "clear_output()"
      ]
    },
    {
      "cell_type": "code",
      "execution_count": 15,
      "metadata": {
        "colab": {
          "base_uri": "https://localhost:8080/",
          "height": 1000
        },
        "id": "1fnaQXKScEeS",
        "outputId": "84c55a05-3b60-43c1-d90d-9746cf0865af"
      },
      "outputs": [
        {
          "name": "stdout",
          "output_type": "stream",
          "text": [
            "Epoch [1/150]\n"
          ]
        },
        {
          "name": "stderr",
          "output_type": "stream",
          "text": [
            "100%|\u001b[32m██████████\u001b[0m| 17/17 [02:22<00:00,  8.40s/it]"
          ]
        },
        {
          "name": "stdout",
          "output_type": "stream",
          "text": [
            "Metriques :  {'precision': 0.095745, 'recall': 0.039409791666666666, 'IoU': 0.022258813659953625}\n"
          ]
        },
        {
          "name": "stderr",
          "output_type": "stream",
          "text": [
            "\n"
          ]
        },
        {
          "name": "stdout",
          "output_type": "stream",
          "text": [
            "Epoch [2/150]\n"
          ]
        },
        {
          "name": "stderr",
          "output_type": "stream",
          "text": [
            "100%|\u001b[32m██████████\u001b[0m| 17/17 [02:20<00:00,  8.25s/it]\n"
          ]
        },
        {
          "name": "stdout",
          "output_type": "stream",
          "text": [
            "Metriques :  {'precision': 0.1706, 'recall': 0.06239807291666666, 'IoU': 0.03917748477275818}\n",
            "Epoch [3/150]\n"
          ]
        },
        {
          "name": "stderr",
          "output_type": "stream",
          "text": [
            "100%|\u001b[32m██████████\u001b[0m| 17/17 [02:22<00:00,  8.39s/it]\n"
          ]
        },
        {
          "name": "stdout",
          "output_type": "stream",
          "text": [
            "Metriques :  {'precision': 0.2096675, 'recall': 0.07457182291666667, 'IoU': 0.04869365676921175}\n",
            "Epoch [4/150]\n"
          ]
        },
        {
          "name": "stderr",
          "output_type": "stream",
          "text": [
            "100%|\u001b[32m██████████\u001b[0m| 17/17 [02:23<00:00,  8.42s/it]\n"
          ]
        },
        {
          "name": "stdout",
          "output_type": "stream",
          "text": [
            "Metriques :  {'precision': 0.26827, 'recall': 0.08963447916666667, 'IoU': 0.0625330382956462}\n",
            "Epoch [5/150]\n"
          ]
        },
        {
          "name": "stderr",
          "output_type": "stream",
          "text": [
            "100%|\u001b[32m██████████\u001b[0m| 17/17 [02:23<00:00,  8.42s/it]\n"
          ]
        },
        {
          "name": "stdout",
          "output_type": "stream",
          "text": [
            "Metriques :  {'precision': 0.27898, 'recall': 0.093470625, 'IoU': 0.06590351572594136}\n",
            "Epoch [6/150]\n"
          ]
        },
        {
          "name": "stderr",
          "output_type": "stream",
          "text": [
            "100%|\u001b[32m██████████\u001b[0m| 17/17 [02:22<00:00,  8.37s/it]\n"
          ]
        },
        {
          "name": "stdout",
          "output_type": "stream",
          "text": [
            "Metriques :  {'precision': 0.304825, 'recall': 0.10144932291666667, 'IoU': 0.07256708377577237}\n",
            "Epoch [7/150]\n"
          ]
        },
        {
          "name": "stderr",
          "output_type": "stream",
          "text": [
            "100%|\u001b[32m██████████\u001b[0m| 17/17 [02:21<00:00,  8.34s/it]\n"
          ]
        },
        {
          "name": "stdout",
          "output_type": "stream",
          "text": [
            "Metriques :  {'precision': 0.3091575, 'recall': 0.10422723958333333, 'IoU': 0.0743931938026354}\n",
            "Epoch [8/150]\n"
          ]
        },
        {
          "name": "stderr",
          "output_type": "stream",
          "text": [
            "100%|\u001b[32m██████████\u001b[0m| 17/17 [02:22<00:00,  8.39s/it]\n"
          ]
        },
        {
          "name": "stdout",
          "output_type": "stream",
          "text": [
            "Metriques :  {'precision': 0.35760000000000003, 'recall': 0.11909067708333335, 'IoU': 0.08804554776093013}\n",
            "Epoch [9/150]\n"
          ]
        },
        {
          "name": "stderr",
          "output_type": "stream",
          "text": [
            "100%|\u001b[32m██████████\u001b[0m| 17/17 [02:27<00:00,  8.67s/it]\n"
          ]
        },
        {
          "name": "stdout",
          "output_type": "stream",
          "text": [
            "Metriques :  {'precision': 0.354435, 'recall': 0.11808265625, 'IoU': 0.08707944522382303}\n",
            "Epoch [10/150]\n"
          ]
        },
        {
          "name": "stderr",
          "output_type": "stream",
          "text": [
            "100%|\u001b[32m██████████\u001b[0m| 17/17 [02:27<00:00,  8.67s/it]\n"
          ]
        },
        {
          "name": "stdout",
          "output_type": "stream",
          "text": [
            "Metriques :  {'precision': 0.3942725, 'recall': 0.13038317708333333, 'IoU': 0.09863935925066385}\n",
            "Epoch [11/150]\n"
          ]
        },
        {
          "name": "stderr",
          "output_type": "stream",
          "text": [
            "100%|\u001b[32m██████████\u001b[0m| 17/17 [02:23<00:00,  8.45s/it]"
          ]
        },
        {
          "name": "stdout",
          "output_type": "stream",
          "text": [
            "Metriques :  {'precision': 0.41093500000000005, 'recall': 0.13412802083333333, 'IoU': 0.10306282994458583}\n"
          ]
        },
        {
          "name": "stderr",
          "output_type": "stream",
          "text": [
            "\n"
          ]
        },
        {
          "name": "stdout",
          "output_type": "stream",
          "text": [
            "Epoch [12/150]\n"
          ]
        },
        {
          "name": "stderr",
          "output_type": "stream",
          "text": [
            "100%|\u001b[32m██████████\u001b[0m| 17/17 [02:24<00:00,  8.48s/it]\n"
          ]
        },
        {
          "name": "stdout",
          "output_type": "stream",
          "text": [
            "Metriques :  {'precision': 0.415985, 'recall': 0.14078484375, 'IoU': 0.10703119319176209}\n",
            "Epoch [13/150]\n"
          ]
        },
        {
          "name": "stderr",
          "output_type": "stream",
          "text": [
            "100%|\u001b[32m██████████\u001b[0m| 17/17 [02:25<00:00,  8.57s/it]\n"
          ]
        },
        {
          "name": "stdout",
          "output_type": "stream",
          "text": [
            "Metriques :  {'precision': 0.4259025, 'recall': 0.14227276041666667, 'IoU': 0.1096528996318583}\n",
            "Epoch [14/150]\n"
          ]
        },
        {
          "name": "stderr",
          "output_type": "stream",
          "text": [
            "100%|\u001b[32m██████████\u001b[0m| 17/17 [02:22<00:00,  8.40s/it]\n"
          ]
        },
        {
          "name": "stdout",
          "output_type": "stream",
          "text": [
            "Metriques :  {'precision': 0.4286025, 'recall': 0.14156416666666666, 'IoU': 0.10972930102270954}\n",
            "Epoch [15/150]\n"
          ]
        },
        {
          "name": "stderr",
          "output_type": "stream",
          "text": [
            "100%|\u001b[32m██████████\u001b[0m| 17/17 [02:23<00:00,  8.43s/it]\n"
          ]
        },
        {
          "name": "stdout",
          "output_type": "stream",
          "text": [
            "Metriques :  {'precision': 0.4454425, 'recall': 0.14854958333333332, 'IoU': 0.11532226594627698}\n",
            "Epoch [16/150]\n"
          ]
        },
        {
          "name": "stderr",
          "output_type": "stream",
          "text": [
            "100%|\u001b[32m██████████\u001b[0m| 17/17 [02:23<00:00,  8.45s/it]\n"
          ]
        },
        {
          "name": "stdout",
          "output_type": "stream",
          "text": [
            "Metriques :  {'precision': 0.45682, 'recall': 0.1482078125, 'IoU': 0.11756242837716259}\n",
            "Epoch [17/150]\n"
          ]
        },
        {
          "name": "stderr",
          "output_type": "stream",
          "text": [
            "100%|\u001b[32m██████████\u001b[0m| 17/17 [02:20<00:00,  8.24s/it]\n"
          ]
        },
        {
          "name": "stdout",
          "output_type": "stream",
          "text": [
            "Metriques :  {'precision': 0.46289499999999995, 'recall': 0.14774098958333332, 'IoU': 0.11762043264992533}\n",
            "Epoch [18/150]\n"
          ]
        },
        {
          "name": "stderr",
          "output_type": "stream",
          "text": [
            "100%|\u001b[32m██████████\u001b[0m| 17/17 [02:23<00:00,  8.41s/it]\n"
          ]
        },
        {
          "name": "stdout",
          "output_type": "stream",
          "text": [
            "Metriques :  {'precision': 0.46738750000000007, 'recall': 0.15808578125, 'IoU': 0.123408882990443}\n",
            "Epoch [19/150]\n"
          ]
        },
        {
          "name": "stderr",
          "output_type": "stream",
          "text": [
            "100%|\u001b[32m██████████\u001b[0m| 17/17 [02:22<00:00,  8.36s/it]\n"
          ]
        },
        {
          "name": "stdout",
          "output_type": "stream",
          "text": [
            "Metriques :  {'precision': 0.46151749999999997, 'recall': 0.15384109375000002, 'IoU': 0.12048072536611844}\n",
            "Epoch [20/150]\n"
          ]
        },
        {
          "name": "stderr",
          "output_type": "stream",
          "text": [
            "100%|\u001b[32m██████████\u001b[0m| 17/17 [02:22<00:00,  8.38s/it]\n"
          ]
        },
        {
          "name": "stdout",
          "output_type": "stream",
          "text": [
            "Metriques :  {'precision': 0.46206250000000004, 'recall': 0.15543625, 'IoU': 0.12150365069889864}\n",
            "Epoch [21/150]\n"
          ]
        },
        {
          "name": "stderr",
          "output_type": "stream",
          "text": [
            "100%|\u001b[32m██████████\u001b[0m| 17/17 [02:20<00:00,  8.26s/it]"
          ]
        },
        {
          "name": "stdout",
          "output_type": "stream",
          "text": [
            "Metriques :  {'precision': 0.47882250000000004, 'recall': 0.15543552083333334, 'IoU': 0.124526893227251}\n"
          ]
        },
        {
          "name": "stderr",
          "output_type": "stream",
          "text": [
            "\n"
          ]
        },
        {
          "name": "stdout",
          "output_type": "stream",
          "text": [
            "Epoch [22/150]\n"
          ]
        },
        {
          "name": "stderr",
          "output_type": "stream",
          "text": [
            "100%|\u001b[32m██████████\u001b[0m| 17/17 [02:21<00:00,  8.31s/it]\n"
          ]
        },
        {
          "name": "stdout",
          "output_type": "stream",
          "text": [
            "Metriques :  {'precision': 0.4776325, 'recall': 0.15915645833333333, 'IoU': 0.1257123615849582}\n",
            "Epoch [23/150]\n"
          ]
        },
        {
          "name": "stderr",
          "output_type": "stream",
          "text": [
            "100%|\u001b[32m██████████\u001b[0m| 17/17 [02:19<00:00,  8.23s/it]\n"
          ]
        },
        {
          "name": "stdout",
          "output_type": "stream",
          "text": [
            "Metriques :  {'precision': 0.46729, 'recall': 0.15449114583333332, 'IoU': 0.12225790457937286}\n",
            "Epoch [24/150]\n"
          ]
        },
        {
          "name": "stderr",
          "output_type": "stream",
          "text": [
            "100%|\u001b[32m██████████\u001b[0m| 17/17 [02:22<00:00,  8.37s/it]\n"
          ]
        },
        {
          "name": "stdout",
          "output_type": "stream",
          "text": [
            "Metriques :  {'precision': 0.466615, 'recall': 0.14935864583333333, 'IoU': 0.1195754026067084}\n",
            "Epoch [25/150]\n"
          ]
        },
        {
          "name": "stderr",
          "output_type": "stream",
          "text": [
            "100%|\u001b[32m██████████\u001b[0m| 17/17 [02:21<00:00,  8.35s/it]\n"
          ]
        },
        {
          "name": "stdout",
          "output_type": "stream",
          "text": [
            "Metriques :  {'precision': 0.48849750000000003, 'recall': 0.1592990625, 'IoU': 0.12797976483957624}\n",
            "Epoch [26/150]\n"
          ]
        },
        {
          "name": "stderr",
          "output_type": "stream",
          "text": [
            "100%|\u001b[32m██████████\u001b[0m| 17/17 [02:22<00:00,  8.36s/it]\n"
          ]
        },
        {
          "name": "stdout",
          "output_type": "stream",
          "text": [
            "Metriques :  {'precision': 0.47180999999999995, 'recall': 0.16148208333333336, 'IoU': 0.12647723196444094}\n",
            "Epoch [27/150]\n"
          ]
        },
        {
          "name": "stderr",
          "output_type": "stream",
          "text": [
            "100%|\u001b[32m██████████\u001b[0m| 17/17 [02:21<00:00,  8.35s/it]\n"
          ]
        },
        {
          "name": "stdout",
          "output_type": "stream",
          "text": [
            "Metriques :  {'precision': 0.48206, 'recall': 0.1608828125, 'IoU': 0.12758850441367453}\n",
            "Epoch [28/150]\n"
          ]
        },
        {
          "name": "stderr",
          "output_type": "stream",
          "text": [
            "100%|\u001b[32m██████████\u001b[0m| 17/17 [02:21<00:00,  8.35s/it]\n"
          ]
        },
        {
          "name": "stdout",
          "output_type": "stream",
          "text": [
            "Metriques :  {'precision': 0.47762250000000006, 'recall': 0.15928046875, 'IoU': 0.12642489307816118}\n",
            "Epoch [29/150]\n"
          ]
        },
        {
          "name": "stderr",
          "output_type": "stream",
          "text": [
            "100%|\u001b[32m██████████\u001b[0m| 17/17 [02:20<00:00,  8.25s/it]\n"
          ]
        },
        {
          "name": "stdout",
          "output_type": "stream",
          "text": [
            "Metriques :  {'precision': 0.48258749999999995, 'recall': 0.15863671875000002, 'IoU': 0.12680510714469023}\n",
            "Epoch [30/150]\n"
          ]
        },
        {
          "name": "stderr",
          "output_type": "stream",
          "text": [
            "100%|\u001b[32m██████████\u001b[0m| 17/17 [02:21<00:00,  8.32s/it]\n"
          ]
        },
        {
          "name": "stdout",
          "output_type": "stream",
          "text": [
            "Metriques :  {'precision': 0.4806225, 'recall': 0.15672765624999999, 'IoU': 0.1255889715883917}\n",
            "Epoch [31/150]\n"
          ]
        },
        {
          "name": "stderr",
          "output_type": "stream",
          "text": [
            "100%|\u001b[32m██████████\u001b[0m| 17/17 [02:22<00:00,  8.35s/it]"
          ]
        },
        {
          "name": "stdout",
          "output_type": "stream",
          "text": [
            "Metriques :  {'precision': 0.48914, 'recall': 0.15967640624999999, 'IoU': 0.12888475524680876}\n"
          ]
        },
        {
          "name": "stderr",
          "output_type": "stream",
          "text": [
            "\n"
          ]
        },
        {
          "name": "stdout",
          "output_type": "stream",
          "text": [
            "Epoch [32/150]\n"
          ]
        },
        {
          "name": "stderr",
          "output_type": "stream",
          "text": [
            "100%|\u001b[32m██████████\u001b[0m| 17/17 [02:23<00:00,  8.42s/it]\n"
          ]
        },
        {
          "name": "stdout",
          "output_type": "stream",
          "text": [
            "Metriques :  {'precision': 0.494915, 'recall': 0.1608478125, 'IoU': 0.13041980165484746}\n",
            "Epoch [33/150]\n"
          ]
        },
        {
          "name": "stderr",
          "output_type": "stream",
          "text": [
            "100%|\u001b[32m██████████\u001b[0m| 17/17 [02:22<00:00,  8.39s/it]\n"
          ]
        },
        {
          "name": "stdout",
          "output_type": "stream",
          "text": [
            "Metriques :  {'precision': 0.4937425, 'recall': 0.15846729166666668, 'IoU': 0.12862369053447026}\n",
            "Epoch [34/150]\n"
          ]
        },
        {
          "name": "stderr",
          "output_type": "stream",
          "text": [
            "100%|\u001b[32m██████████\u001b[0m| 17/17 [02:20<00:00,  8.24s/it]\n"
          ]
        },
        {
          "name": "stdout",
          "output_type": "stream",
          "text": [
            "Metriques :  {'precision': 0.491065, 'recall': 0.16027927083333332, 'IoU': 0.12934026114509117}\n",
            "Epoch [35/150]\n"
          ]
        },
        {
          "name": "stderr",
          "output_type": "stream",
          "text": [
            "100%|\u001b[32m██████████\u001b[0m| 17/17 [02:20<00:00,  8.26s/it]\n"
          ]
        },
        {
          "name": "stdout",
          "output_type": "stream",
          "text": [
            "Metriques :  {'precision': 0.48641, 'recall': 0.159751875, 'IoU': 0.12807666858029765}\n",
            "Epoch [36/150]\n"
          ]
        },
        {
          "name": "stderr",
          "output_type": "stream",
          "text": [
            "100%|\u001b[32m██████████\u001b[0m| 17/17 [02:18<00:00,  8.17s/it]\n"
          ]
        },
        {
          "name": "stdout",
          "output_type": "stream",
          "text": [
            "Metriques :  {'precision': 0.4880025, 'recall': 0.1668379166666667, 'IoU': 0.1319192557332781}\n",
            "Epoch [37/150]\n"
          ]
        },
        {
          "name": "stderr",
          "output_type": "stream",
          "text": [
            "100%|\u001b[32m██████████\u001b[0m| 17/17 [02:22<00:00,  8.38s/it]\n"
          ]
        },
        {
          "name": "stdout",
          "output_type": "stream",
          "text": [
            "Metriques :  {'precision': 0.49267, 'recall': 0.1654146875, 'IoU': 0.13221980536679623}\n",
            "Epoch [38/150]\n"
          ]
        },
        {
          "name": "stderr",
          "output_type": "stream",
          "text": [
            "100%|\u001b[32m██████████\u001b[0m| 17/17 [02:22<00:00,  8.37s/it]\n"
          ]
        },
        {
          "name": "stdout",
          "output_type": "stream",
          "text": [
            "Metriques :  {'precision': 0.49695, 'recall': 0.16513015625, 'IoU': 0.13277060625184273}\n",
            "Epoch [39/150]\n"
          ]
        },
        {
          "name": "stderr",
          "output_type": "stream",
          "text": [
            "100%|\u001b[32m██████████\u001b[0m| 17/17 [02:22<00:00,  8.40s/it]\n"
          ]
        },
        {
          "name": "stdout",
          "output_type": "stream",
          "text": [
            "Metriques :  {'precision': 0.49608250000000004, 'recall': 0.16585807291666665, 'IoU': 0.13302131345114032}\n",
            "Epoch [40/150]\n"
          ]
        },
        {
          "name": "stderr",
          "output_type": "stream",
          "text": [
            "100%|\u001b[32m██████████\u001b[0m| 17/17 [02:22<00:00,  8.40s/it]\n"
          ]
        },
        {
          "name": "stdout",
          "output_type": "stream",
          "text": [
            "Metriques :  {'precision': 0.48641, 'recall': 0.15995432291666667, 'IoU': 0.12819908774268893}\n",
            "Epoch [41/150]\n"
          ]
        },
        {
          "name": "stderr",
          "output_type": "stream",
          "text": [
            "100%|\u001b[32m██████████\u001b[0m| 17/17 [02:19<00:00,  8.21s/it]"
          ]
        },
        {
          "name": "stdout",
          "output_type": "stream",
          "text": [
            "Metriques :  {'precision': 0.49253500000000006, 'recall': 0.16600640625000002, 'IoU': 0.13195242280830807}\n"
          ]
        },
        {
          "name": "stderr",
          "output_type": "stream",
          "text": [
            "\n"
          ]
        },
        {
          "name": "stdout",
          "output_type": "stream",
          "text": [
            "Epoch [42/150]\n"
          ]
        },
        {
          "name": "stderr",
          "output_type": "stream",
          "text": [
            "100%|\u001b[32m██████████\u001b[0m| 17/17 [02:20<00:00,  8.26s/it]\n"
          ]
        },
        {
          "name": "stdout",
          "output_type": "stream",
          "text": [
            "Metriques :  {'precision': 0.49722500000000003, 'recall': 0.16803171875, 'IoU': 0.1341163173176388}\n",
            "Epoch [43/150]\n"
          ]
        },
        {
          "name": "stderr",
          "output_type": "stream",
          "text": [
            "100%|\u001b[32m██████████\u001b[0m| 17/17 [02:19<00:00,  8.21s/it]\n"
          ]
        },
        {
          "name": "stdout",
          "output_type": "stream",
          "text": [
            "Metriques :  {'precision': 0.4985975, 'recall': 0.16745854166666665, 'IoU': 0.1340724033616829}\n",
            "Epoch [44/150]\n"
          ]
        },
        {
          "name": "stderr",
          "output_type": "stream",
          "text": [
            "100%|\u001b[32m██████████\u001b[0m| 17/17 [02:21<00:00,  8.34s/it]\n"
          ]
        },
        {
          "name": "stdout",
          "output_type": "stream",
          "text": [
            "Metriques :  {'precision': 0.50966, 'recall': 0.16913921875, 'IoU': 0.13668695668425174}\n",
            "Epoch [45/150]\n"
          ]
        },
        {
          "name": "stderr",
          "output_type": "stream",
          "text": [
            "100%|\u001b[32m██████████\u001b[0m| 17/17 [02:22<00:00,  8.37s/it]\n"
          ]
        },
        {
          "name": "stdout",
          "output_type": "stream",
          "text": [
            "Metriques :  {'precision': 0.503565, 'recall': 0.16810364583333332, 'IoU': 0.13494367357451173}\n",
            "Epoch [46/150]\n"
          ]
        },
        {
          "name": "stderr",
          "output_type": "stream",
          "text": [
            "100%|\u001b[32m██████████\u001b[0m| 17/17 [02:20<00:00,  8.24s/it]\n"
          ]
        },
        {
          "name": "stdout",
          "output_type": "stream",
          "text": [
            "Metriques :  {'precision': 0.49763499999999994, 'recall': 0.16785171875000002, 'IoU': 0.13416352391868563}\n",
            "Epoch [47/150]\n"
          ]
        },
        {
          "name": "stderr",
          "output_type": "stream",
          "text": [
            "100%|\u001b[32m██████████\u001b[0m| 17/17 [02:19<00:00,  8.21s/it]\n"
          ]
        },
        {
          "name": "stdout",
          "output_type": "stream",
          "text": [
            "Metriques :  {'precision': 0.4952875, 'recall': 0.16471526041666668, 'IoU': 0.13172776051699164}\n",
            "Epoch [48/150]\n"
          ]
        },
        {
          "name": "stderr",
          "output_type": "stream",
          "text": [
            "100%|\u001b[32m██████████\u001b[0m| 17/17 [02:21<00:00,  8.31s/it]\n"
          ]
        },
        {
          "name": "stdout",
          "output_type": "stream",
          "text": [
            "Metriques :  {'precision': 0.500195, 'recall': 0.16623083333333333, 'IoU': 0.1335481530225133}\n",
            "Epoch [49/150]\n"
          ]
        },
        {
          "name": "stderr",
          "output_type": "stream",
          "text": [
            "100%|\u001b[32m██████████\u001b[0m| 17/17 [02:21<00:00,  8.34s/it]\n"
          ]
        },
        {
          "name": "stdout",
          "output_type": "stream",
          "text": [
            "Metriques :  {'precision': 0.49291749999999995, 'recall': 0.16251312499999998, 'IoU': 0.13038251891466468}\n",
            "Epoch [50/150]\n"
          ]
        },
        {
          "name": "stderr",
          "output_type": "stream",
          "text": [
            "100%|\u001b[32m██████████\u001b[0m| 17/17 [02:20<00:00,  8.28s/it]\n"
          ]
        },
        {
          "name": "stdout",
          "output_type": "stream",
          "text": [
            "Metriques :  {'precision': 0.5023724999999999, 'recall': 0.16454307291666667, 'IoU': 0.13309079333727006}\n",
            "Epoch [51/150]\n"
          ]
        },
        {
          "name": "stderr",
          "output_type": "stream",
          "text": [
            "100%|\u001b[32m██████████\u001b[0m| 17/17 [02:20<00:00,  8.27s/it]"
          ]
        },
        {
          "name": "stdout",
          "output_type": "stream",
          "text": [
            "Metriques :  {'precision': 0.49452999999999997, 'recall': 0.16235348958333334, 'IoU': 0.13046602021923118}\n"
          ]
        },
        {
          "name": "stderr",
          "output_type": "stream",
          "text": [
            "\n"
          ]
        },
        {
          "name": "stdout",
          "output_type": "stream",
          "text": [
            "Epoch [52/150]\n"
          ]
        },
        {
          "name": "stderr",
          "output_type": "stream",
          "text": [
            "100%|\u001b[32m██████████\u001b[0m| 17/17 [02:20<00:00,  8.24s/it]\n"
          ]
        },
        {
          "name": "stdout",
          "output_type": "stream",
          "text": [
            "Metriques :  {'precision': 0.48774249999999997, 'recall': 0.16945666666666667, 'IoU': 0.1328870615756045}\n",
            "Epoch [53/150]\n"
          ]
        },
        {
          "name": "stderr",
          "output_type": "stream",
          "text": [
            "100%|\u001b[32m██████████\u001b[0m| 17/17 [02:19<00:00,  8.22s/it]\n"
          ]
        },
        {
          "name": "stdout",
          "output_type": "stream",
          "text": [
            "Metriques :  {'precision': 0.5053225, 'recall': 0.16460135416666666, 'IoU': 0.1335114985159974}\n",
            "Epoch [54/150]\n"
          ]
        },
        {
          "name": "stderr",
          "output_type": "stream",
          "text": [
            "100%|\u001b[32m██████████\u001b[0m| 17/17 [02:22<00:00,  8.36s/it]\n"
          ]
        },
        {
          "name": "stdout",
          "output_type": "stream",
          "text": [
            "Metriques :  {'precision': 0.5100925000000001, 'recall': 0.16287546874999997, 'IoU': 0.13356876710952975}\n",
            "Epoch [55/150]\n"
          ]
        },
        {
          "name": "stderr",
          "output_type": "stream",
          "text": [
            "100%|\u001b[32m██████████\u001b[0m| 17/17 [02:21<00:00,  8.33s/it]\n"
          ]
        },
        {
          "name": "stdout",
          "output_type": "stream",
          "text": [
            "Metriques :  {'precision': 0.5004225, 'recall': 0.16230296875, 'IoU': 0.13175430659610415}\n",
            "Epoch [56/150]\n"
          ]
        },
        {
          "name": "stderr",
          "output_type": "stream",
          "text": [
            "100%|\u001b[32m██████████\u001b[0m| 17/17 [02:19<00:00,  8.21s/it]\n"
          ]
        },
        {
          "name": "stdout",
          "output_type": "stream",
          "text": [
            "Metriques :  {'precision': 0.49868750000000006, 'recall': 0.16645682291666666, 'IoU': 0.13319065458392343}\n",
            "Epoch [57/150]\n"
          ]
        },
        {
          "name": "stderr",
          "output_type": "stream",
          "text": [
            "100%|\u001b[32m██████████\u001b[0m| 17/17 [02:20<00:00,  8.27s/it]\n"
          ]
        },
        {
          "name": "stdout",
          "output_type": "stream",
          "text": [
            "Metriques :  {'precision': 0.5066375, 'recall': 0.16185364583333334, 'IoU': 0.1321711915101031}\n",
            "Epoch [58/150]\n"
          ]
        },
        {
          "name": "stderr",
          "output_type": "stream",
          "text": [
            "100%|\u001b[32m██████████\u001b[0m| 17/17 [02:20<00:00,  8.27s/it]\n"
          ]
        },
        {
          "name": "stdout",
          "output_type": "stream",
          "text": [
            "Metriques :  {'precision': 0.5053574999999999, 'recall': 0.17094994791666665, 'IoU': 0.13646331527860567}\n",
            "Epoch [59/150]\n"
          ]
        },
        {
          "name": "stderr",
          "output_type": "stream",
          "text": [
            "100%|\u001b[32m██████████\u001b[0m| 17/17 [02:20<00:00,  8.26s/it]\n"
          ]
        },
        {
          "name": "stdout",
          "output_type": "stream",
          "text": [
            "Metriques :  {'precision': 0.48137749999999996, 'recall': 0.16186953125, 'IoU': 0.1282937120817371}\n",
            "Epoch [60/150]\n"
          ]
        },
        {
          "name": "stderr",
          "output_type": "stream",
          "text": [
            "100%|\u001b[32m██████████\u001b[0m| 17/17 [02:21<00:00,  8.32s/it]\n"
          ]
        },
        {
          "name": "stdout",
          "output_type": "stream",
          "text": [
            "Metriques :  {'precision': 0.5057275, 'recall': 0.16393312499999999, 'IoU': 0.13351069459142806}\n",
            "Epoch [61/150]\n"
          ]
        },
        {
          "name": "stderr",
          "output_type": "stream",
          "text": [
            "100%|\u001b[32m██████████\u001b[0m| 17/17 [02:20<00:00,  8.28s/it]"
          ]
        },
        {
          "name": "stdout",
          "output_type": "stream",
          "text": [
            "Metriques :  {'precision': 0.5066375, 'recall': 0.166898125, 'IoU': 0.13523322449428699}\n"
          ]
        },
        {
          "name": "stderr",
          "output_type": "stream",
          "text": [
            "\n"
          ]
        },
        {
          "name": "stdout",
          "output_type": "stream",
          "text": [
            "Epoch [62/150]\n"
          ]
        },
        {
          "name": "stderr",
          "output_type": "stream",
          "text": [
            "100%|\u001b[32m██████████\u001b[0m| 17/17 [02:20<00:00,  8.28s/it]\n"
          ]
        },
        {
          "name": "stdout",
          "output_type": "stream",
          "text": [
            "Metriques :  {'precision': 0.49756749999999994, 'recall': 0.1615759895833333, 'IoU': 0.1305963210327026}\n",
            "Epoch [63/150]\n"
          ]
        },
        {
          "name": "stderr",
          "output_type": "stream",
          "text": [
            "100%|\u001b[32m██████████\u001b[0m| 17/17 [02:21<00:00,  8.32s/it]\n"
          ]
        },
        {
          "name": "stdout",
          "output_type": "stream",
          "text": [
            "Metriques :  {'precision': 0.5018675, 'recall': 0.16723713541666665, 'IoU': 0.13421461947533062}\n",
            "Epoch [64/150]\n"
          ]
        },
        {
          "name": "stderr",
          "output_type": "stream",
          "text": [
            "100%|\u001b[32m██████████\u001b[0m| 17/17 [02:20<00:00,  8.28s/it]\n"
          ]
        },
        {
          "name": "stdout",
          "output_type": "stream",
          "text": [
            "Metriques :  {'precision': 0.49753250000000004, 'recall': 0.16447578125, 'IoU': 0.13217241607853014}\n",
            "Epoch [65/150]\n"
          ]
        },
        {
          "name": "stderr",
          "output_type": "stream",
          "text": [
            "100%|\u001b[32m██████████\u001b[0m| 17/17 [02:20<00:00,  8.29s/it]\n"
          ]
        },
        {
          "name": "stdout",
          "output_type": "stream",
          "text": [
            "Metriques :  {'precision': 0.49055249999999995, 'recall': 0.16236286458333335, 'IoU': 0.12985770989299528}\n",
            "Epoch [66/150]\n"
          ]
        },
        {
          "name": "stderr",
          "output_type": "stream",
          "text": [
            "100%|\u001b[32m██████████\u001b[0m| 17/17 [02:20<00:00,  8.29s/it]\n"
          ]
        },
        {
          "name": "stdout",
          "output_type": "stream",
          "text": [
            "Metriques :  {'precision': 0.5028925, 'recall': 0.16121796875, 'IoU': 0.1313650685267478}\n",
            "Epoch [67/150]\n"
          ]
        },
        {
          "name": "stderr",
          "output_type": "stream",
          "text": [
            "100%|\u001b[32m██████████\u001b[0m| 17/17 [02:20<00:00,  8.26s/it]\n"
          ]
        },
        {
          "name": "stdout",
          "output_type": "stream",
          "text": [
            "Metriques :  {'precision': 0.49055499999999996, 'recall': 0.16232489583333334, 'IoU': 0.1299306759745335}\n",
            "Epoch [68/150]\n"
          ]
        },
        {
          "name": "stderr",
          "output_type": "stream",
          "text": [
            "100%|\u001b[32m██████████\u001b[0m| 17/17 [02:20<00:00,  8.25s/it]\n"
          ]
        },
        {
          "name": "stdout",
          "output_type": "stream",
          "text": [
            "Metriques :  {'precision': 0.4832175, 'recall': 0.16318692708333332, 'IoU': 0.12861073868049003}\n",
            "Epoch [69/150]\n"
          ]
        },
        {
          "name": "stderr",
          "output_type": "stream",
          "text": [
            "100%|\u001b[32m██████████\u001b[0m| 17/17 [02:20<00:00,  8.29s/it]\n"
          ]
        },
        {
          "name": "stdout",
          "output_type": "stream",
          "text": [
            "Metriques :  {'precision': 0.5032725, 'recall': 0.15912057291666667, 'IoU': 0.13004268304028527}\n",
            "Epoch [70/150]\n"
          ]
        },
        {
          "name": "stderr",
          "output_type": "stream",
          "text": [
            "100%|\u001b[32m██████████\u001b[0m| 17/17 [02:21<00:00,  8.30s/it]\n"
          ]
        },
        {
          "name": "stdout",
          "output_type": "stream",
          "text": [
            "Metriques :  {'precision': 0.4834575, 'recall': 0.15989239583333334, 'IoU': 0.12794736529755105}\n",
            "Epoch [71/150]\n"
          ]
        },
        {
          "name": "stderr",
          "output_type": "stream",
          "text": [
            "100%|\u001b[32m██████████\u001b[0m| 17/17 [02:20<00:00,  8.26s/it]"
          ]
        },
        {
          "name": "stdout",
          "output_type": "stream",
          "text": [
            "Metriques :  {'precision': 0.4986175, 'recall': 0.16226531249999998, 'IoU': 0.13115848134244537}\n"
          ]
        },
        {
          "name": "stderr",
          "output_type": "stream",
          "text": [
            "\n"
          ]
        },
        {
          "name": "stdout",
          "output_type": "stream",
          "text": [
            "Epoch [72/150]\n"
          ]
        },
        {
          "name": "stderr",
          "output_type": "stream",
          "text": [
            "100%|\u001b[32m██████████\u001b[0m| 17/17 [02:20<00:00,  8.28s/it]\n"
          ]
        },
        {
          "name": "stdout",
          "output_type": "stream",
          "text": [
            "Metriques :  {'precision': 0.49270749999999996, 'recall': 0.1673678125, 'IoU': 0.13230080299479202}\n",
            "Epoch [73/150]\n"
          ]
        },
        {
          "name": "stderr",
          "output_type": "stream",
          "text": [
            "100%|\u001b[32m██████████\u001b[0m| 17/17 [02:20<00:00,  8.26s/it]\n"
          ]
        },
        {
          "name": "stdout",
          "output_type": "stream",
          "text": [
            "Metriques :  {'precision': 0.49473500000000004, 'recall': 0.15805666666666668, 'IoU': 0.1284926390649096}\n",
            "Epoch [74/150]\n"
          ]
        },
        {
          "name": "stderr",
          "output_type": "stream",
          "text": [
            "100%|\u001b[32m██████████\u001b[0m| 17/17 [02:20<00:00,  8.24s/it]\n"
          ]
        },
        {
          "name": "stdout",
          "output_type": "stream",
          "text": [
            "Metriques :  {'precision': 0.497105, 'recall': 0.16567458333333335, 'IoU': 0.13228806210796015}\n",
            "Epoch [75/150]\n"
          ]
        },
        {
          "name": "stderr",
          "output_type": "stream",
          "text": [
            "100%|\u001b[32m██████████\u001b[0m| 17/17 [02:20<00:00,  8.26s/it]\n"
          ]
        },
        {
          "name": "stdout",
          "output_type": "stream",
          "text": [
            "Metriques :  {'precision': 0.4864425, 'recall': 0.16449041666666667, 'IoU': 0.13062937103010067}\n",
            "Epoch [76/150]\n"
          ]
        },
        {
          "name": "stderr",
          "output_type": "stream",
          "text": [
            "100%|\u001b[32m██████████\u001b[0m| 17/17 [02:21<00:00,  8.34s/it]\n"
          ]
        },
        {
          "name": "stdout",
          "output_type": "stream",
          "text": [
            "Metriques :  {'precision': 0.49316750000000004, 'recall': 0.15916911458333333, 'IoU': 0.12913722970957273}\n",
            "Epoch [77/150]\n"
          ]
        },
        {
          "name": "stderr",
          "output_type": "stream",
          "text": [
            "100%|\u001b[32m██████████\u001b[0m| 17/17 [02:19<00:00,  8.23s/it]\n"
          ]
        },
        {
          "name": "stdout",
          "output_type": "stream",
          "text": [
            "Metriques :  {'precision': 0.48839749999999993, 'recall': 0.16454895833333333, 'IoU': 0.13028656337400324}\n",
            "Epoch [78/150]\n"
          ]
        },
        {
          "name": "stderr",
          "output_type": "stream",
          "text": [
            "100%|\u001b[32m██████████\u001b[0m| 17/17 [02:20<00:00,  8.29s/it]\n"
          ]
        },
        {
          "name": "stdout",
          "output_type": "stream",
          "text": [
            "Metriques :  {'precision': 0.49636749999999996, 'recall': 0.16234979166666666, 'IoU': 0.1306782820197437}\n",
            "Epoch [79/150]\n"
          ]
        },
        {
          "name": "stderr",
          "output_type": "stream",
          "text": [
            "100%|\u001b[32m██████████\u001b[0m| 17/17 [02:20<00:00,  8.25s/it]\n"
          ]
        },
        {
          "name": "stdout",
          "output_type": "stream",
          "text": [
            "Metriques :  {'precision': 0.50258, 'recall': 0.16277567708333335, 'IoU': 0.1322833763211234}\n",
            "Epoch [80/150]\n"
          ]
        },
        {
          "name": "stderr",
          "output_type": "stream",
          "text": [
            "100%|\u001b[32m██████████\u001b[0m| 17/17 [02:20<00:00,  8.27s/it]\n"
          ]
        },
        {
          "name": "stdout",
          "output_type": "stream",
          "text": [
            "Metriques :  {'precision': 0.48946749999999994, 'recall': 0.16158020833333336, 'IoU': 0.12956527452775918}\n",
            "Epoch [81/150]\n"
          ]
        },
        {
          "name": "stderr",
          "output_type": "stream",
          "text": [
            "100%|\u001b[32m██████████\u001b[0m| 17/17 [02:19<00:00,  8.22s/it]"
          ]
        },
        {
          "name": "stdout",
          "output_type": "stream",
          "text": [
            "Metriques :  {'precision': 0.49122499999999997, 'recall': 0.16358765625, 'IoU': 0.1307645096542034}\n"
          ]
        },
        {
          "name": "stderr",
          "output_type": "stream",
          "text": [
            "\n"
          ]
        },
        {
          "name": "stdout",
          "output_type": "stream",
          "text": [
            "Epoch [82/150]\n"
          ]
        },
        {
          "name": "stderr",
          "output_type": "stream",
          "text": [
            "100%|\u001b[32m██████████\u001b[0m| 17/17 [02:19<00:00,  8.21s/it]\n"
          ]
        },
        {
          "name": "stdout",
          "output_type": "stream",
          "text": [
            "Metriques :  {'precision': 0.47678, 'recall': 0.15353447916666668, 'IoU': 0.12336915954316086}\n",
            "Epoch [83/150]\n"
          ]
        },
        {
          "name": "stderr",
          "output_type": "stream",
          "text": [
            "100%|\u001b[32m██████████\u001b[0m| 17/17 [02:20<00:00,  8.25s/it]\n"
          ]
        },
        {
          "name": "stdout",
          "output_type": "stream",
          "text": [
            "Metriques :  {'precision': 0.4770275, 'recall': 0.15807932291666665, 'IoU': 0.12553222911468997}\n",
            "Epoch [84/150]\n"
          ]
        },
        {
          "name": "stderr",
          "output_type": "stream",
          "text": [
            "100%|\u001b[32m██████████\u001b[0m| 17/17 [02:19<00:00,  8.21s/it]\n"
          ]
        },
        {
          "name": "stdout",
          "output_type": "stream",
          "text": [
            "Metriques :  {'precision': 0.49135249999999997, 'recall': 0.1588590625, 'IoU': 0.1284054600200984}\n",
            "Epoch [85/150]\n"
          ]
        },
        {
          "name": "stderr",
          "output_type": "stream",
          "text": [
            "100%|\u001b[32m██████████\u001b[0m| 17/17 [02:20<00:00,  8.25s/it]\n"
          ]
        },
        {
          "name": "stdout",
          "output_type": "stream",
          "text": [
            "Metriques :  {'precision': 0.505955, 'recall': 0.16206947916666667, 'IoU': 0.1324458581212961}\n",
            "Epoch [86/150]\n"
          ]
        },
        {
          "name": "stderr",
          "output_type": "stream",
          "text": [
            "100%|\u001b[32m██████████\u001b[0m| 17/17 [02:19<00:00,  8.23s/it]\n"
          ]
        },
        {
          "name": "stdout",
          "output_type": "stream",
          "text": [
            "Metriques :  {'precision': 0.48375, 'recall': 0.16057651041666665, 'IoU': 0.12810005232990235}\n",
            "Epoch [87/150]\n"
          ]
        },
        {
          "name": "stderr",
          "output_type": "stream",
          "text": [
            "100%|\u001b[32m██████████\u001b[0m| 17/17 [02:19<00:00,  8.18s/it]\n"
          ]
        },
        {
          "name": "stdout",
          "output_type": "stream",
          "text": [
            "Metriques :  {'precision': 0.49367999999999995, 'recall': 0.16482942708333334, 'IoU': 0.13133371706909797}\n",
            "Epoch [88/150]\n"
          ]
        },
        {
          "name": "stderr",
          "output_type": "stream",
          "text": [
            "100%|\u001b[32m██████████\u001b[0m| 17/17 [02:19<00:00,  8.22s/it]\n"
          ]
        },
        {
          "name": "stdout",
          "output_type": "stream",
          "text": [
            "Metriques :  {'precision': 0.49997250000000004, 'recall': 0.16379453125, 'IoU': 0.13205043776630376}\n",
            "Epoch [89/150]\n"
          ]
        },
        {
          "name": "stderr",
          "output_type": "stream",
          "text": [
            "100%|\u001b[32m██████████\u001b[0m| 17/17 [02:20<00:00,  8.29s/it]\n"
          ]
        },
        {
          "name": "stdout",
          "output_type": "stream",
          "text": [
            "Metriques :  {'precision': 0.4735175, 'recall': 0.15378213541666666, 'IoU': 0.12321685275103558}\n",
            "Epoch [90/150]\n"
          ]
        },
        {
          "name": "stderr",
          "output_type": "stream",
          "text": [
            "100%|\u001b[32m██████████\u001b[0m| 17/17 [02:18<00:00,  8.15s/it]\n"
          ]
        },
        {
          "name": "stdout",
          "output_type": "stream",
          "text": [
            "Metriques :  {'precision': 0.4786775, 'recall': 0.15683770833333333, 'IoU': 0.1253621018995852}\n",
            "Epoch [91/150]\n"
          ]
        },
        {
          "name": "stderr",
          "output_type": "stream",
          "text": [
            "100%|\u001b[32m██████████\u001b[0m| 17/17 [02:20<00:00,  8.26s/it]"
          ]
        },
        {
          "name": "stdout",
          "output_type": "stream",
          "text": [
            "Metriques :  {'precision': 0.46521, 'recall': 0.15734369791666664, 'IoU': 0.1233516735814286}\n"
          ]
        },
        {
          "name": "stderr",
          "output_type": "stream",
          "text": [
            "\n"
          ]
        },
        {
          "name": "stdout",
          "output_type": "stream",
          "text": [
            "Epoch [92/150]\n"
          ]
        },
        {
          "name": "stderr",
          "output_type": "stream",
          "text": [
            "100%|\u001b[32m██████████\u001b[0m| 17/17 [02:19<00:00,  8.22s/it]\n"
          ]
        },
        {
          "name": "stdout",
          "output_type": "stream",
          "text": [
            "Metriques :  {'precision': 0.47493, 'recall': 0.15697130208333332, 'IoU': 0.12461088152395397}\n",
            "Epoch [93/150]\n"
          ]
        },
        {
          "name": "stderr",
          "output_type": "stream",
          "text": [
            "100%|\u001b[32m██████████\u001b[0m| 17/17 [02:19<00:00,  8.20s/it]\n"
          ]
        },
        {
          "name": "stdout",
          "output_type": "stream",
          "text": [
            "Metriques :  {'precision': 0.48516500000000007, 'recall': 0.15388963541666667, 'IoU': 0.12499063815918766}\n",
            "Epoch [94/150]\n"
          ]
        },
        {
          "name": "stderr",
          "output_type": "stream",
          "text": [
            "100%|\u001b[32m██████████\u001b[0m| 17/17 [02:19<00:00,  8.23s/it]\n"
          ]
        },
        {
          "name": "stdout",
          "output_type": "stream",
          "text": [
            "Metriques :  {'precision': 0.4786674999999999, 'recall': 0.158225625, 'IoU': 0.125710815797423}\n",
            "Epoch [95/150]\n"
          ]
        },
        {
          "name": "stderr",
          "output_type": "stream",
          "text": [
            "100%|\u001b[32m██████████\u001b[0m| 17/17 [02:19<00:00,  8.19s/it]\n"
          ]
        },
        {
          "name": "stdout",
          "output_type": "stream",
          "text": [
            "Metriques :  {'precision': 0.48107500000000003, 'recall': 0.164661875, 'IoU': 0.12916812351231402}\n",
            "Epoch [96/150]\n"
          ]
        },
        {
          "name": "stderr",
          "output_type": "stream",
          "text": [
            "100%|\u001b[32m██████████\u001b[0m| 17/17 [02:19<00:00,  8.19s/it]\n"
          ]
        },
        {
          "name": "stdout",
          "output_type": "stream",
          "text": [
            "Metriques :  {'precision': 0.47779250000000006, 'recall': 0.15383661458333334, 'IoU': 0.12399051653417473}\n",
            "Epoch [97/150]\n"
          ]
        },
        {
          "name": "stderr",
          "output_type": "stream",
          "text": [
            "100%|\u001b[32m██████████\u001b[0m| 17/17 [02:19<00:00,  8.23s/it]\n"
          ]
        },
        {
          "name": "stdout",
          "output_type": "stream",
          "text": [
            "Metriques :  {'precision': 0.4846625, 'recall': 0.15847578125, 'IoU': 0.1271820387777724}\n",
            "Epoch [98/150]\n"
          ]
        },
        {
          "name": "stderr",
          "output_type": "stream",
          "text": [
            "100%|\u001b[32m██████████\u001b[0m| 17/17 [02:19<00:00,  8.19s/it]\n"
          ]
        },
        {
          "name": "stdout",
          "output_type": "stream",
          "text": [
            "Metriques :  {'precision': 0.48401000000000005, 'recall': 0.15694989583333335, 'IoU': 0.12620768175040797}\n",
            "Epoch [99/150]\n"
          ]
        },
        {
          "name": "stderr",
          "output_type": "stream",
          "text": [
            "100%|\u001b[32m██████████\u001b[0m| 17/17 [02:20<00:00,  8.27s/it]\n"
          ]
        },
        {
          "name": "stdout",
          "output_type": "stream",
          "text": [
            "Metriques :  {'precision': 0.4829, 'recall': 0.15429473958333334, 'IoU': 0.12461471854399134}\n",
            "Epoch [100/150]\n"
          ]
        },
        {
          "name": "stderr",
          "output_type": "stream",
          "text": [
            "100%|\u001b[32m██████████\u001b[0m| 17/17 [02:20<00:00,  8.25s/it]\n"
          ]
        },
        {
          "name": "stdout",
          "output_type": "stream",
          "text": [
            "Metriques :  {'precision': 0.46715000000000007, 'recall': 0.15974624999999998, 'IoU': 0.12476355129641661}\n",
            "Epoch [101/150]\n"
          ]
        },
        {
          "name": "stderr",
          "output_type": "stream",
          "text": [
            "100%|\u001b[32m██████████\u001b[0m| 17/17 [02:18<00:00,  8.15s/it]"
          ]
        },
        {
          "name": "stdout",
          "output_type": "stream",
          "text": [
            "Metriques :  {'precision': 0.47153, 'recall': 0.15233312499999999, 'IoU': 0.12173873346369948}\n"
          ]
        },
        {
          "name": "stderr",
          "output_type": "stream",
          "text": [
            "\n"
          ]
        },
        {
          "name": "stdout",
          "output_type": "stream",
          "text": [
            "Epoch [102/150]\n"
          ]
        },
        {
          "name": "stderr",
          "output_type": "stream",
          "text": [
            "100%|\u001b[32m██████████\u001b[0m| 17/17 [02:19<00:00,  8.23s/it]\n"
          ]
        },
        {
          "name": "stdout",
          "output_type": "stream",
          "text": [
            "Metriques :  {'precision': 0.46967499999999995, 'recall': 0.15374052083333334, 'IoU': 0.12207980515549925}\n",
            "Epoch [103/150]\n"
          ]
        },
        {
          "name": "stderr",
          "output_type": "stream",
          "text": [
            "100%|\u001b[32m██████████\u001b[0m| 17/17 [02:21<00:00,  8.30s/it]\n"
          ]
        },
        {
          "name": "stdout",
          "output_type": "stream",
          "text": [
            "Metriques :  {'precision': 0.4631725, 'recall': 0.15263609375000003, 'IoU': 0.12091506495601986}\n",
            "Epoch [104/150]\n"
          ]
        },
        {
          "name": "stderr",
          "output_type": "stream",
          "text": [
            "100%|\u001b[32m██████████\u001b[0m| 17/17 [02:19<00:00,  8.21s/it]\n"
          ]
        },
        {
          "name": "stdout",
          "output_type": "stream",
          "text": [
            "Metriques :  {'precision': 0.467445, 'recall': 0.15668901041666666, 'IoU': 0.12330946353165013}\n",
            "Epoch [105/150]\n"
          ]
        },
        {
          "name": "stderr",
          "output_type": "stream",
          "text": [
            "100%|\u001b[32m██████████\u001b[0m| 17/17 [02:19<00:00,  8.21s/it]\n"
          ]
        },
        {
          "name": "stdout",
          "output_type": "stream",
          "text": [
            "Metriques :  {'precision': 0.47671, 'recall': 0.15789442708333334, 'IoU': 0.12563797128104137}\n",
            "Epoch [106/150]\n"
          ]
        },
        {
          "name": "stderr",
          "output_type": "stream",
          "text": [
            "100%|\u001b[32m██████████\u001b[0m| 17/17 [02:20<00:00,  8.25s/it]\n"
          ]
        },
        {
          "name": "stdout",
          "output_type": "stream",
          "text": [
            "Metriques :  {'precision': 0.4708825000000001, 'recall': 0.15622322916666667, 'IoU': 0.12345424629794335}\n",
            "Epoch [107/150]\n"
          ]
        },
        {
          "name": "stderr",
          "output_type": "stream",
          "text": [
            "100%|\u001b[32m██████████\u001b[0m| 17/17 [02:20<00:00,  8.26s/it]\n"
          ]
        },
        {
          "name": "stdout",
          "output_type": "stream",
          "text": [
            "Metriques :  {'precision': 0.469495, 'recall': 0.15398697916666668, 'IoU': 0.12225538783662308}\n",
            "Epoch [108/150]\n"
          ]
        },
        {
          "name": "stderr",
          "output_type": "stream",
          "text": [
            "100%|\u001b[32m██████████\u001b[0m| 17/17 [02:19<00:00,  8.20s/it]\n"
          ]
        },
        {
          "name": "stdout",
          "output_type": "stream",
          "text": [
            "Metriques :  {'precision': 0.468175, 'recall': 0.15899401041666666, 'IoU': 0.12397415690848983}\n",
            "Epoch [109/150]\n"
          ]
        },
        {
          "name": "stderr",
          "output_type": "stream",
          "text": [
            "100%|\u001b[32m██████████\u001b[0m| 17/17 [02:20<00:00,  8.24s/it]\n"
          ]
        },
        {
          "name": "stdout",
          "output_type": "stream",
          "text": [
            "Metriques :  {'precision': 0.4761375, 'recall': 0.15974010416666667, 'IoU': 0.12581102608159533}\n",
            "Epoch [110/150]\n"
          ]
        },
        {
          "name": "stderr",
          "output_type": "stream",
          "text": [
            "100%|\u001b[32m██████████\u001b[0m| 17/17 [02:19<00:00,  8.20s/it]\n"
          ]
        },
        {
          "name": "stdout",
          "output_type": "stream",
          "text": [
            "Metriques :  {'precision': 0.46781249999999996, 'recall': 0.15769322916666667, 'IoU': 0.12330525522858085}\n",
            "Epoch [111/150]\n"
          ]
        },
        {
          "name": "stderr",
          "output_type": "stream",
          "text": [
            "100%|\u001b[32m██████████\u001b[0m| 17/17 [02:20<00:00,  8.26s/it]"
          ]
        },
        {
          "name": "stdout",
          "output_type": "stream",
          "text": [
            "Metriques :  {'precision': 0.45804750000000005, 'recall': 0.15121104166666668, 'IoU': 0.11879510046927577}\n"
          ]
        },
        {
          "name": "stderr",
          "output_type": "stream",
          "text": [
            "\n"
          ]
        },
        {
          "name": "stdout",
          "output_type": "stream",
          "text": [
            "Epoch [112/150]\n"
          ]
        },
        {
          "name": "stderr",
          "output_type": "stream",
          "text": [
            "100%|\u001b[32m██████████\u001b[0m| 17/17 [02:19<00:00,  8.20s/it]\n"
          ]
        },
        {
          "name": "stdout",
          "output_type": "stream",
          "text": [
            "Metriques :  {'precision': 0.47716250000000004, 'recall': 0.15999213541666668, 'IoU': 0.12595229531123636}\n",
            "Epoch [113/150]\n"
          ]
        },
        {
          "name": "stderr",
          "output_type": "stream",
          "text": [
            "100%|\u001b[32m██████████\u001b[0m| 17/17 [02:20<00:00,  8.24s/it]\n"
          ]
        },
        {
          "name": "stdout",
          "output_type": "stream",
          "text": [
            "Metriques :  {'precision': 0.48107, 'recall': 0.15949546874999998, 'IoU': 0.12649605832299116}\n",
            "Epoch [114/150]\n"
          ]
        },
        {
          "name": "stderr",
          "output_type": "stream",
          "text": [
            "100%|\u001b[32m██████████\u001b[0m| 17/17 [02:21<00:00,  8.32s/it]\n"
          ]
        },
        {
          "name": "stdout",
          "output_type": "stream",
          "text": [
            "Metriques :  {'precision': 0.46789749999999997, 'recall': 0.15588635416666669, 'IoU': 0.12308635191985207}\n",
            "Epoch [115/150]\n"
          ]
        },
        {
          "name": "stderr",
          "output_type": "stream",
          "text": [
            "100%|\u001b[32m██████████\u001b[0m| 17/17 [02:21<00:00,  8.31s/it]\n"
          ]
        },
        {
          "name": "stdout",
          "output_type": "stream",
          "text": [
            "Metriques :  {'precision': 0.46300749999999996, 'recall': 0.156500625, 'IoU': 0.12197986456129659}\n",
            "Epoch [116/150]\n"
          ]
        },
        {
          "name": "stderr",
          "output_type": "stream",
          "text": [
            "100%|\u001b[32m██████████\u001b[0m| 17/17 [02:20<00:00,  8.28s/it]\n"
          ]
        },
        {
          "name": "stdout",
          "output_type": "stream",
          "text": [
            "Metriques :  {'precision': 0.49165000000000003, 'recall': 0.16061682291666665, 'IoU': 0.12924562278257612}\n",
            "Epoch [117/150]\n"
          ]
        },
        {
          "name": "stderr",
          "output_type": "stream",
          "text": [
            "100%|\u001b[32m██████████\u001b[0m| 17/17 [02:19<00:00,  8.21s/it]\n"
          ]
        },
        {
          "name": "stdout",
          "output_type": "stream",
          "text": [
            "Metriques :  {'precision': 0.46906749999999997, 'recall': 0.15679875, 'IoU': 0.12366174232126032}\n",
            "Epoch [118/150]\n"
          ]
        },
        {
          "name": "stderr",
          "output_type": "stream",
          "text": [
            "100%|\u001b[32m██████████\u001b[0m| 17/17 [02:19<00:00,  8.23s/it]\n"
          ]
        },
        {
          "name": "stdout",
          "output_type": "stream",
          "text": [
            "Metriques :  {'precision': 0.4804175, 'recall': 0.1593715625, 'IoU': 0.1262889637056233}\n",
            "Epoch [119/150]\n"
          ]
        },
        {
          "name": "stderr",
          "output_type": "stream",
          "text": [
            "100%|\u001b[32m██████████\u001b[0m| 17/17 [02:19<00:00,  8.22s/it]\n"
          ]
        },
        {
          "name": "stdout",
          "output_type": "stream",
          "text": [
            "Metriques :  {'precision': 0.47356, 'recall': 0.15631671875, 'IoU': 0.12384798380378263}\n",
            "Epoch [120/150]\n"
          ]
        },
        {
          "name": "stderr",
          "output_type": "stream",
          "text": [
            "100%|\u001b[32m██████████\u001b[0m| 17/17 [02:19<00:00,  8.22s/it]\n"
          ]
        },
        {
          "name": "stdout",
          "output_type": "stream",
          "text": [
            "Metriques :  {'precision': 0.4625475, 'recall': 0.15364927083333332, 'IoU': 0.12059082150586498}\n",
            "Epoch [121/150]\n"
          ]
        },
        {
          "name": "stderr",
          "output_type": "stream",
          "text": [
            "100%|\u001b[32m██████████\u001b[0m| 17/17 [02:19<00:00,  8.22s/it]"
          ]
        },
        {
          "name": "stdout",
          "output_type": "stream",
          "text": [
            "Metriques :  {'precision': 0.491475, 'recall': 0.15960791666666668, 'IoU': 0.1287894131060666}\n"
          ]
        },
        {
          "name": "stderr",
          "output_type": "stream",
          "text": [
            "\n"
          ]
        },
        {
          "name": "stdout",
          "output_type": "stream",
          "text": [
            "Epoch [122/150]\n"
          ]
        },
        {
          "name": "stderr",
          "output_type": "stream",
          "text": [
            "100%|\u001b[32m██████████\u001b[0m| 17/17 [02:20<00:00,  8.24s/it]\n"
          ]
        },
        {
          "name": "stdout",
          "output_type": "stream",
          "text": [
            "Metriques :  {'precision': 0.4722925, 'recall': 0.15667776041666664, 'IoU': 0.1238423307385485}\n",
            "Epoch [123/150]\n"
          ]
        },
        {
          "name": "stderr",
          "output_type": "stream",
          "text": [
            "100%|\u001b[32m██████████\u001b[0m| 17/17 [02:20<00:00,  8.24s/it]\n"
          ]
        },
        {
          "name": "stdout",
          "output_type": "stream",
          "text": [
            "Metriques :  {'precision': 0.4661775, 'recall': 0.15812484375000002, 'IoU': 0.12344746540197618}\n",
            "Epoch [124/150]\n"
          ]
        },
        {
          "name": "stderr",
          "output_type": "stream",
          "text": [
            "100%|\u001b[32m██████████\u001b[0m| 17/17 [02:19<00:00,  8.22s/it]\n"
          ]
        },
        {
          "name": "stdout",
          "output_type": "stream",
          "text": [
            "Metriques :  {'precision': 0.47547, 'recall': 0.15996864583333334, 'IoU': 0.12594736131786624}\n",
            "Epoch [125/150]\n"
          ]
        },
        {
          "name": "stderr",
          "output_type": "stream",
          "text": [
            "100%|\u001b[32m██████████\u001b[0m| 17/17 [02:20<00:00,  8.28s/it]\n"
          ]
        },
        {
          "name": "stdout",
          "output_type": "stream",
          "text": [
            "Metriques :  {'precision': 0.47686, 'recall': 0.15673807291666667, 'IoU': 0.12462881779153692}\n",
            "Epoch [126/150]\n"
          ]
        },
        {
          "name": "stderr",
          "output_type": "stream",
          "text": [
            "100%|\u001b[32m██████████\u001b[0m| 17/17 [02:19<00:00,  8.20s/it]\n"
          ]
        },
        {
          "name": "stdout",
          "output_type": "stream",
          "text": [
            "Metriques :  {'precision': 0.47286249999999996, 'recall': 0.15620572916666664, 'IoU': 0.12357468192183521}\n",
            "Epoch [127/150]\n"
          ]
        },
        {
          "name": "stderr",
          "output_type": "stream",
          "text": [
            "100%|\u001b[32m██████████\u001b[0m| 17/17 [02:20<00:00,  8.25s/it]\n"
          ]
        },
        {
          "name": "stdout",
          "output_type": "stream",
          "text": [
            "Metriques :  {'precision': 0.47935999999999995, 'recall': 0.15803807291666666, 'IoU': 0.12550442665312445}\n",
            "Epoch [128/150]\n"
          ]
        },
        {
          "name": "stderr",
          "output_type": "stream",
          "text": [
            "100%|\u001b[32m██████████\u001b[0m| 17/17 [02:20<00:00,  8.29s/it]\n"
          ]
        },
        {
          "name": "stdout",
          "output_type": "stream",
          "text": [
            "Metriques :  {'precision': 0.48088, 'recall': 0.15693161458333332, 'IoU': 0.12541949151262471}\n",
            "Epoch [129/150]\n"
          ]
        },
        {
          "name": "stderr",
          "output_type": "stream",
          "text": [
            "100%|\u001b[32m██████████\u001b[0m| 17/17 [02:19<00:00,  8.23s/it]\n"
          ]
        },
        {
          "name": "stdout",
          "output_type": "stream",
          "text": [
            "Metriques :  {'precision': 0.4752375, 'recall': 0.16173333333333334, 'IoU': 0.126838415910971}\n",
            "Epoch [130/150]\n"
          ]
        },
        {
          "name": "stderr",
          "output_type": "stream",
          "text": [
            "100%|\u001b[32m██████████\u001b[0m| 17/17 [02:20<00:00,  8.25s/it]\n"
          ]
        },
        {
          "name": "stdout",
          "output_type": "stream",
          "text": [
            "Metriques :  {'precision': 0.46233500000000005, 'recall': 0.15831447916666666, 'IoU': 0.12293228994573135}\n",
            "Epoch [131/150]\n"
          ]
        },
        {
          "name": "stderr",
          "output_type": "stream",
          "text": [
            "100%|\u001b[32m██████████\u001b[0m| 17/17 [02:19<00:00,  8.20s/it]"
          ]
        },
        {
          "name": "stdout",
          "output_type": "stream",
          "text": [
            "Metriques :  {'precision': 0.46658999999999995, 'recall': 0.15481307291666668, 'IoU': 0.12219190920061368}\n"
          ]
        },
        {
          "name": "stderr",
          "output_type": "stream",
          "text": [
            "\n"
          ]
        },
        {
          "name": "stdout",
          "output_type": "stream",
          "text": [
            "Epoch [132/150]\n"
          ]
        },
        {
          "name": "stderr",
          "output_type": "stream",
          "text": [
            "100%|\u001b[32m██████████\u001b[0m| 17/17 [02:21<00:00,  8.29s/it]\n"
          ]
        },
        {
          "name": "stdout",
          "output_type": "stream",
          "text": [
            "Metriques :  {'precision': 0.4907275, 'recall': 0.15966734375, 'IoU': 0.128180260772022}\n",
            "Epoch [133/150]\n"
          ]
        },
        {
          "name": "stderr",
          "output_type": "stream",
          "text": [
            "100%|\u001b[32m██████████\u001b[0m| 17/17 [02:20<00:00,  8.27s/it]\n"
          ]
        },
        {
          "name": "stdout",
          "output_type": "stream",
          "text": [
            "Metriques :  {'precision': 0.47564999999999996, 'recall': 0.15583953125, 'IoU': 0.12376241646716477}\n",
            "Epoch [134/150]\n"
          ]
        },
        {
          "name": "stderr",
          "output_type": "stream",
          "text": [
            "100%|\u001b[32m██████████\u001b[0m| 17/17 [02:19<00:00,  8.21s/it]\n"
          ]
        },
        {
          "name": "stdout",
          "output_type": "stream",
          "text": [
            "Metriques :  {'precision': 0.4702925, 'recall': 0.15508494791666666, 'IoU': 0.1225085506894662}\n",
            "Epoch [135/150]\n"
          ]
        },
        {
          "name": "stderr",
          "output_type": "stream",
          "text": [
            "100%|\u001b[32m██████████\u001b[0m| 17/17 [02:19<00:00,  8.19s/it]\n"
          ]
        },
        {
          "name": "stdout",
          "output_type": "stream",
          "text": [
            "Metriques :  {'precision': 0.47226750000000006, 'recall': 0.1562982291666667, 'IoU': 0.12337856163620611}\n",
            "Epoch [136/150]\n"
          ]
        },
        {
          "name": "stderr",
          "output_type": "stream",
          "text": [
            "100%|\u001b[32m██████████\u001b[0m| 17/17 [02:19<00:00,  8.21s/it]\n"
          ]
        },
        {
          "name": "stdout",
          "output_type": "stream",
          "text": [
            "Metriques :  {'precision': 0.46733, 'recall': 0.15500005208333334, 'IoU': 0.12214879688777698}\n",
            "Epoch [137/150]\n"
          ]
        },
        {
          "name": "stderr",
          "output_type": "stream",
          "text": [
            "100%|\u001b[32m██████████\u001b[0m| 17/17 [02:20<00:00,  8.29s/it]\n"
          ]
        },
        {
          "name": "stdout",
          "output_type": "stream",
          "text": [
            "Metriques :  {'precision': 0.47123250000000005, 'recall': 0.15596354166666665, 'IoU': 0.12289680536602984}\n",
            "Epoch [138/150]\n"
          ]
        },
        {
          "name": "stderr",
          "output_type": "stream",
          "text": [
            "100%|\u001b[32m██████████\u001b[0m| 17/17 [02:20<00:00,  8.26s/it]\n"
          ]
        },
        {
          "name": "stdout",
          "output_type": "stream",
          "text": [
            "Metriques :  {'precision': 0.47119, 'recall': 0.15446020833333335, 'IoU': 0.12275502000513275}\n",
            "Epoch [139/150]\n"
          ]
        },
        {
          "name": "stderr",
          "output_type": "stream",
          "text": [
            " 94%|\u001b[32m█████████▍\u001b[0m| 16/17 [00:14<00:00,  1.08it/s]"
          ]
        }
      ],
      "source": [
        "num_epochs = 150\n",
        "fine_tune(model, optimizer, writer, num_epochs, train_dataloader, valid_dataloader)"
      ]
    },
    {
      "cell_type": "code",
      "execution_count": null,
      "metadata": {
        "id": "oqrrVjNmvbAW"
      },
      "outputs": [],
      "source": [
        "%cd {HOME}\n",
        "torch.save(model.state_dict(), f\"model{num_epochs}.torch\")"
      ]
    },
    {
      "cell_type": "code",
      "execution_count": null,
      "metadata": {
        "id": "J8wsJtVbyAKF"
      },
      "outputs": [],
      "source": [
        "%tensorboard --logdir=LOG_DIR"
      ]
    },
    {
      "cell_type": "code",
      "execution_count": null,
      "metadata": {
        "id": "NiBYMt1jvbAX"
      },
      "outputs": [],
      "source": [
        "def draw_metrics(metrics : dict):\n",
        "    sns.set_theme(style=\"darkgrid\")\n",
        "    ncols, nepochs = len(metrics), len(next(iter(metrics.values())))\n",
        "    fig, axs = plt.subplots(nrows=1, ncols=ncols, figsize=(10, 3))\n",
        "    if ncols == 1:\n",
        "        axs = [axs]\n",
        "    for idx, (metric, values) in enumerate(metrics.items()):\n",
        "        ax = axs[idx]\n",
        "        sns.lineplot(x=np.arange(nepochs), y=values, ax=ax, marker='o', linestyle='-', color=\"blue\")\n",
        "        ax.set_xlabel(metric.capitalize())\n",
        "        ax.grid(True)\n",
        "    plt.tight_layout()\n",
        "    plt.show()\n",
        "\n",
        "draw_metrics({\"box_loss\": metrics[\"box_loss\"], \"seg_loss\": metrics[\"seg_loss\"], \"cls_loss\": metrics[\"cls_loss\"], \"global\": metrics[\"global\"]})\n",
        "draw_metrics({\"val_box_loss\": metrics[\"val_box_loss\"], \"val_seg_loss\": metrics[\"val_seg_loss\"], \"val_cls_loss\": metrics[\"val_cls_loss\"], \"val_global\": metrics[\"val_global\"]})"
      ]
    },
    {
      "cell_type": "code",
      "execution_count": null,
      "metadata": {
        "id": "oG4mAZwGvbAX"
      },
      "outputs": [],
      "source": [
        "! mkdir runs\n",
        "SAVES_PATH = \"runs/\"\n",
        "def visual_inference(image, prediction: dict, batch_index : int, confidence_threshold : float = 0.8,\n",
        "                     prediction_path: str = None):\n",
        "    fig, axs = plt.subplots(nrows=1, ncols=2, figsize=(20, 10))\n",
        "\n",
        "    for ax in axs:\n",
        "        ax.grid(False)\n",
        "        ax.axis('off')\n",
        "    bg = image.permute(1, 2, 0).detach().cpu().numpy()\n",
        "    bg = (bg * 255.0).astype(np.uint8)\n",
        "    seg_im = bg.copy()\n",
        "    for i in range(len(prediction['masks'])):\n",
        "        msk=prediction['masks'][i,0].detach().cpu().numpy()\n",
        "        scr=prediction['scores'][i].detach().cpu().numpy()\n",
        "        if scr>confidence_threshold:\n",
        "            seg_im[msk >= 0.5, 0] = 100\n",
        "            seg_im[msk >= 0.5, 1] = 151\n",
        "            seg_im[msk >= 0.5, 2] = 177\n",
        "    axs[0].imshow(bg)\n",
        "    axs[1].imshow(seg_im)\n",
        "    #show_mask(prediction['masks'].detach().cpu().numpy(), axs[1], True)\n",
        "    if not prediction_path:\n",
        "      fig.savefig(SAVES_PATH+f'batch_{batch_index}.png', bbox_inches='tight')\n",
        "    else:\n",
        "      fig.savefig(SAVES_PATH + prediction_path, bbox_inches='tight')"
      ]
    },
    {
      "cell_type": "code",
      "execution_count": null,
      "metadata": {
        "id": "gfqnxLIqvbAY"
      },
      "outputs": [],
      "source": [
        "model.eval()\n",
        "precision, recall = 0.0, 0.0\n",
        "with torch.no_grad():\n",
        "    for index, (images, targets) in enumerate((pbatch := tqdm(test_dataloader, colour='green'))):\n",
        "        predictions = model(images.to(device))\n",
        "        #pred_masks = [m[\"masks\"].detach().cpu().numpy() for m in predictions]\n",
        "        #true_masks = [t[\"masks\"] for t in  targets]\n",
        "        #for target, prediction in zip(targets, predictions):\n",
        "        #    compute_metrics(predictions, targets)\n",
        "        # model output : boxes, labels, scores, masks\n",
        "        for i in range(len(images)):\n",
        "            visual_inference(images[i], predictions[i], index, confidence_threshold=0.5)"
      ]
    },
    {
      "cell_type": "code",
      "execution_count": null,
      "metadata": {
        "id": "HZb7M8hTkA4V"
      },
      "outputs": [],
      "source": [
        "import random\n",
        "def predict_non_annotated_image(file_id:str):\n",
        "  file_path = f\"data/{file_id}.jpeg\"\n",
        "  model.eval()\n",
        "  with torch.no_grad():\n",
        "      image = cv2.imread(file_path) #Image.open(img_path)\n",
        "      image = cv2.cvtColor(image, cv2.COLOR_BGR2RGB)\n",
        "      image = cv2.resize(image, imageSize, cv2.INTER_LINEAR)\n",
        "      image = torch.as_tensor(image, dtype=torch.float32)\n",
        "      image /= 255.0\n",
        "      image = image.swapaxes(0, 2).swapaxes(1, 2)\n",
        "      uns_image = torch.unsqueeze(image, 0)\n",
        "      prediction = model(uns_image.to(device))\n",
        "      visual_inference(image, prediction[0], random.randint(50, 100), confidence_threshold=0.2, prediction_path=file_id+\".png\")\n",
        "\n",
        "files = [\"0_17\", \"0_6\", \"1_19\", \"1_20\", \"3_10\", \"2_15\", \"1_17\"]\n",
        "for file in files:\n",
        "  predict_non_annotated_image(file)"
      ]
    }
  ],
  "metadata": {
    "accelerator": "GPU",
    "colab": {
      "gpuType": "T4",
      "provenance": []
    },
    "kernelspec": {
      "display_name": "Python 3",
      "name": "python3"
    },
    "language_info": {
      "codemirror_mode": {
        "name": "ipython",
        "version": 3
      },
      "file_extension": ".py",
      "mimetype": "text/x-python",
      "name": "python",
      "nbconvert_exporter": "python",
      "pygments_lexer": "ipython3",
      "version": "3.10.0"
    }
  },
  "nbformat": 4,
  "nbformat_minor": 0
}
