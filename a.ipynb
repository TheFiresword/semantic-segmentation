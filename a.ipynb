{
 "cells": [
  {
   "cell_type": "code",
   "execution_count": 9,
   "metadata": {},
   "outputs": [
    {
     "name": "stdout",
     "output_type": "stream",
     "text": [
      "Précision =  0.75\n",
      "Recall =  0.75\n",
      "AP pour une seule classe: 0.065\n"
     ]
    }
   ],
   "source": [
    "import numpy as np\n",
    "\n",
    "def precision_score_(groundtruth_mask, pred_mask):\n",
    "    intersect = np.sum(pred_mask * groundtruth_mask)\n",
    "    total_pixel_pred = np.sum(pred_mask)\n",
    "    if total_pixel_pred == 0:\n",
    "        return 0.0\n",
    "    precision = intersect / total_pixel_pred\n",
    "    print(\"Précision = \",round(precision, 3))\n",
    "    return round(precision, 3)\n",
    "\n",
    "def recall_score_(groundtruth_mask, pred_mask):\n",
    "    intersect = np.sum(pred_mask * groundtruth_mask)\n",
    "    total_pixel_truth = np.sum(groundtruth_mask)\n",
    "    if total_pixel_truth == 0:\n",
    "        return 0.0\n",
    "    recall = intersect / total_pixel_truth\n",
    "    print(\"Recall = \", round(recall, 3))\n",
    "    return round(recall, 3)\n",
    "\n",
    "def mean_average_precision(groundtruth_masks, pred_masks):\n",
    "    precisions = []\n",
    "    recalls = []\n",
    "    for i in range(len(groundtruth_masks)):\n",
    "        groundtruth_mask = groundtruth_masks[i]\n",
    "        pred_mask = pred_masks[i]\n",
    "        precision = precision_score_(groundtruth_mask, pred_mask)\n",
    "        recall = recall_score_(groundtruth_mask, pred_mask)\n",
    "        precisions.append(precision)\n",
    "        recalls.append(recall)\n",
    "    \n",
    "    # Assuming we have precision-recall pairs for each mask\n",
    "    ap = average_precision(precisions, recalls)\n",
    "    return ap\n",
    "\n",
    "def average_precision(precisions, recalls):\n",
    "    precisions = np.array(precisions)\n",
    "    recalls = np.array(recalls)\n",
    "    sorted_indices = np.argsort(recalls)\n",
    "    precisions = precisions[sorted_indices]\n",
    "    recalls = recalls[sorted_indices]\n",
    "    ap = 0.0\n",
    "    for i in range(1, len(precisions)):\n",
    "        if recalls[i] != recalls[i-1]:\n",
    "            ap += (recalls[i] - recalls[i-1]) * precisions[i]\n",
    "    return ap\n",
    "\n",
    "# Exemples de masques de vérité terrain et prédits pour une seule classe\n",
    "groundtruth_mask = np.array([[1, 1, 0, 0], [1, 1, 0, 0], [0, 0, 0, 0], [0, 0, 0, 0]])\n",
    "pred_mask = np.array([[1, 1, 0, 0], [1, 0, 0, 0], [0, 0, 1, 0], [0, 0, 0, 0]])\n",
    "\n",
    "# Calculer la précision et le rappel\n",
    "precision = precision_score_(groundtruth_mask, pred_mask)\n",
    "recall = recall_score_(groundtruth_mask, pred_mask)\n",
    "\n",
    "# Calculer l'AP (et donc le mAP pour une seule classe)\n",
    "ap = average_precision([precision, precision-0.1], [recall, recall+0.1])\n",
    "\n",
    "# Afficher le résultat\n",
    "print(f'AP pour une seule classe: {ap:.3f}')\n"
   ]
  }
 ],
 "metadata": {
  "kernelspec": {
   "display_name": "myenv",
   "language": "python",
   "name": "python3"
  },
  "language_info": {
   "codemirror_mode": {
    "name": "ipython",
    "version": 3
   },
   "file_extension": ".py",
   "mimetype": "text/x-python",
   "name": "python",
   "nbconvert_exporter": "python",
   "pygments_lexer": "ipython3",
   "version": "3.12.3"
  }
 },
 "nbformat": 4,
 "nbformat_minor": 2
}
