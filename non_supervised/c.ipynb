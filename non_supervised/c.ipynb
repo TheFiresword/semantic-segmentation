{
 "cells": [
  {
   "cell_type": "code",
   "execution_count": 1,
   "metadata": {},
   "outputs": [
    {
     "name": "stderr",
     "output_type": "stream",
     "text": [
      "/home/junior/anaconda3/envs/myenv/lib/python3.12/site-packages/torchvision/models/_utils.py:208: UserWarning: The parameter 'pretrained' is deprecated since 0.13 and may be removed in the future, please use 'weights' instead.\n",
      "  warnings.warn(\n",
      "/home/junior/anaconda3/envs/myenv/lib/python3.12/site-packages/torchvision/models/_utils.py:223: UserWarning: Arguments other than a weight enum or `None` for 'weights' are deprecated since 0.13 and may be removed in the future. The current behavior is equivalent to passing `weights=ResNet50_Weights.IMAGENET1K_V1`. You can also use `weights=ResNet50_Weights.DEFAULT` to get the most up-to-date weights.\n",
      "  warnings.warn(msg)\n",
      "Downloading: \"https://download.pytorch.org/models/resnet50-0676ba61.pth\" to /home/junior/.cache/torch/hub/checkpoints/resnet50-0676ba61.pth\n",
      "100%|██████████| 97.8M/97.8M [00:00<00:00, 113MB/s] \n"
     ]
    }
   ],
   "source": [
    "import torch\n",
    "import torchvision.models as models\n",
    "from torchvision import transforms\n",
    "\n",
    "# Load a pre-trained model\n",
    "model = models.resnet50(pretrained=True)\n",
    "model.eval()\n",
    "\n",
    "# Transformation for the input image\n",
    "transform = transforms.Compose([\n",
    "    transforms.Resize((224, 224)),\n",
    "    transforms.ToTensor(),\n",
    "    transforms.Normalize(mean=[0.485, 0.456, 0.406], std=[0.229, 0.224, 0.225]),\n",
    "])\n",
    "\n",
    "def extract_features(image, model, transform):\n",
    "    image = transform(image).unsqueeze(0)  # Add batch dimension\n",
    "    with torch.no_grad():\n",
    "        features = model(image)\n",
    "    return features.squeeze(0)\n"
   ]
  },
  {
   "cell_type": "code",
   "execution_count": 2,
   "metadata": {},
   "outputs": [],
   "source": [
    "import cv2\n",
    "from skimage.segmentation import slic\n",
    "from skimage.color import label2rgb\n",
    "\n",
    "def superpixel_segmentation(image, num_segments=100):\n",
    "    segments = slic(image, n_segments=num_segments, compactness=10, sigma=1)\n",
    "    return segments\n"
   ]
  },
  {
   "cell_type": "code",
   "execution_count": 3,
   "metadata": {},
   "outputs": [],
   "source": [
    "import numpy as np\n",
    "from sklearn.cluster import AgglomerativeClustering\n",
    "\n",
    "def construct_affinity_graph(features, segments):\n",
    "    num_segments = len(np.unique(segments))\n",
    "    affinity_matrix = np.zeros((num_segments, num_segments))\n",
    "    \n",
    "    for i in range(num_segments):\n",
    "        for j in range(num_segments):\n",
    "            if i != j:\n",
    "                feature_i = np.mean(features[segments == i], axis=0)\n",
    "                feature_j = np.mean(features[segments == j], axis=0)\n",
    "                affinity_matrix[i, j] = np.linalg.norm(feature_i - feature_j)\n",
    "    \n",
    "    return affinity_matrix\n",
    "\n",
    "def graph_based_clustering(affinity_matrix, num_clusters):\n",
    "    clustering = AgglomerativeClustering(n_clusters=num_clusters, affinity='precomputed', linkage='average')\n",
    "    labels = clustering.fit_predict(affinity_matrix)\n",
    "    return labels\n"
   ]
  },
  {
   "cell_type": "code",
   "execution_count": null,
   "metadata": {},
   "outputs": [],
   "source": [
    "! pip install --use-pep517 pydensecrf\n",
    "import pydensecrf.densecrf as dcrf\n",
    "from pydensecrf.utils import unary_from_labels, create_pairwise_gaussian, create_pairwise_bilateral\n",
    "\n",
    "def refine_segmentation(image, segments, labels):\n",
    "    d = dcrf.DenseCRF2D(image.shape[1], image.shape[0], len(np.unique(labels)))\n",
    "    unary = unary_from_labels(labels, len(np.unique(labels)), gt_prob=0.7)\n",
    "    d.setUnaryEnergy(unary)\n",
    "    \n",
    "    d.addPairwiseGaussian(sxy=3, compat=3)\n",
    "    d.addPairwiseBilateral(sxy=80, srgb=13, rgbim=image, compat=10)\n",
    "    \n",
    "    refined_labels = d.inference(10)\n",
    "    refined_labels = np.argmax(refined_labels, axis=0).reshape(image.shape[:2])\n",
    "    return refined_labels\n"
   ]
  },
  {
   "cell_type": "code",
   "execution_count": null,
   "metadata": {},
   "outputs": [],
   "source": [
    "def get_bounding_boxes(segmented_image):\n",
    "    bounding_boxes = []\n",
    "    unique_labels = np.unique(segmented_image)\n",
    "    \n",
    "    for label in unique_labels:\n",
    "        if label == 0:  # Skip the background\n",
    "            continue\n",
    "        mask = segmented_image == label\n",
    "        coords = np.argwhere(mask)\n",
    "        y0, x0 = coords.min(axis=0)\n",
    "        y1, x1 = coords.max(axis=0)\n",
    "        bounding_boxes.append((x0, y0, x1, y1))\n",
    "    \n",
    "    return bounding_boxes\n"
   ]
  },
  {
   "cell_type": "code",
   "execution_count": null,
   "metadata": {},
   "outputs": [],
   "source": [
    "from PIL import Image\n",
    "import matplotlib.pyplot as plt\n",
    "import matplotlib.patches as patches\n",
    "\n",
    "# Load and preprocess image\n",
    "image_path = 'images/0_0.jpeg'\n",
    "image = Image.open(image_path)\n",
    "image_np = np.array(image)\n",
    "\n",
    "# Step 1: Feature Extraction\n",
    "features = extract_features(image, model, transform).numpy()\n",
    "\n",
    "# Step 2: Superpixel Segmentation\n",
    "segments = superpixel_segmentation(image_np)\n",
    "\n",
    "# Step 3: Affinity Graph Construction and Clustering\n",
    "affinity_matrix = construct_affinity_graph(features, segments)\n",
    "num_clusters = 5  # Adjust based on the complexity of the scene\n",
    "labels = graph_based_clustering(affinity_matrix, num_clusters)\n",
    "\n",
    "# Step 4: Instance Segmentation Refinement\n",
    "refined_labels = refine_segmentation(image_np, segments, labels)\n",
    "\n",
    "# Step 5: Bounding Box Extraction\n",
    "bounding_boxes = get_bounding_boxes(refined_labels)\n",
    "\n",
    "# Display the segmented image with bounding boxes\n",
    "fig, ax = plt.subplots(1, figsize=(12, 12))\n",
    "ax.imshow(image_np)\n",
    "\n",
    "for box in bounding_boxes:\n",
    "    x0, y0, x1, y1 = box\n",
    "    rect = patches.Rectangle((x0, y0), x1 - x0, y1 - y0, linewidth=2, edgecolor='r', facecolor='none')\n",
    "    ax.add_patch(rect)\n",
    "\n",
    "plt.show()\n"
   ]
  }
 ],
 "metadata": {
  "kernelspec": {
   "display_name": "myenv",
   "language": "python",
   "name": "python3"
  },
  "language_info": {
   "codemirror_mode": {
    "name": "ipython",
    "version": 3
   },
   "file_extension": ".py",
   "mimetype": "text/x-python",
   "name": "python",
   "nbconvert_exporter": "python",
   "pygments_lexer": "ipython3",
   "version": "3.12.3"
  }
 },
 "nbformat": 4,
 "nbformat_minor": 2
}
