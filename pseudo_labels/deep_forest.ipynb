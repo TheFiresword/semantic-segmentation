{
 "cells": [
  {
   "cell_type": "code",
   "execution_count": 1,
   "metadata": {},
   "outputs": [],
   "source": [
    "! pip install --upgrade deepforest albumentations PyYAML\n",
    "from deepforest import main\n",
    "from deepforest import get_data\n",
    "import matplotlib.pyplot as plt\n",
    "from IPython.display import clear_output\n",
    "from pathlib import Path\n",
    "import pandas as pd\n",
    "import json\n",
    "clear_output()\n"
   ]
  },
  {
   "cell_type": "code",
   "execution_count": 2,
   "metadata": {},
   "outputs": [
    {
     "name": "stdout",
     "output_type": "stream",
     "text": [
      "Reading config file: /home/junior/anaconda3/envs/myenv/lib/python3.12/site-packages/deepforest/data/deepforest_config.yml\n"
     ]
    },
    {
     "name": "stderr",
     "output_type": "stream",
     "text": [
      "GPU available: True (cuda), used: True\n",
      "TPU available: False, using: 0 TPU cores\n",
      "IPU available: False, using: 0 IPUs\n",
      "HPU available: False, using: 0 HPUs\n"
     ]
    },
    {
     "name": "stdout",
     "output_type": "stream",
     "text": [
      "No validation file provided. Turning off validation loop\n",
      "Model from DeepForest release https://github.com/weecology/DeepForest/releases/tag/1.0.0 was already downloaded. Loading model from file.\n",
      "Loading pre-built model: https://github.com/weecology/DeepForest/releases/tag/1.0.0\n"
     ]
    }
   ],
   "source": [
    "m = main.deepforest()\n",
    "m.use_release()"
   ]
  },
  {
   "cell_type": "code",
   "execution_count": 3,
   "metadata": {},
   "outputs": [],
   "source": [
    "def create_coco_annotation_from_df(df : pd.core.frame.DataFrame, img_size : int, output_path: str):\n",
    "    coco = {\n",
    "        \"images\": [],\n",
    "        \"annotations\": [],\n",
    "        \"categories\": []\n",
    "    }\n",
    "    \n",
    "    image_id = 0\n",
    "    annotation_id = 0\n",
    "    category_id_map = {}\n",
    "    \n",
    "    unique_images = df['image_path'].unique()\n",
    "    \n",
    "    for image_path in unique_images:\n",
    "        image_data = df[df['image_path'] == image_path]\n",
    "        coco[\"images\"].append({\n",
    "            \"id\": image_id,\n",
    "            \"file_name\": image_path,\n",
    "            \"width\": img_size,\n",
    "            \"height\": img_size\n",
    "        })\n",
    "        \n",
    "        for _, row in image_data.iterrows():\n",
    "            # use row['score'] comme filtre\n",
    "            label = row[\"label\"] # not mandatory because deepforest model detect only one class\n",
    "            if label not in category_id_map:\n",
    "                category_id = len(category_id_map)\n",
    "                category_id_map[label] = category_id\n",
    "                coco[\"categories\"].append({\n",
    "                    \"id\": category_id,\n",
    "                    \"name\": label\n",
    "                })\n",
    "            \n",
    "            coco[\"annotations\"].append({\n",
    "                \"id\": annotation_id,\n",
    "                \"image_id\": image_id,\n",
    "                \"category_id\": category_id_map[label],\n",
    "                \"bbox\": [row[\"xmin\"], row[\"ymin\"], row[\"xmax\"] - row[\"xmin\"], row[\"ymax\"] - row[\"ymin\"]],\n",
    "                \"area\": (row[\"xmax\"] - row[\"xmin\"]) * (row[\"ymax\"] - row[\"ymin\"]),\n",
    "                \"iscrowd\": 0\n",
    "            })\n",
    "            annotation_id += 1\n",
    "        \n",
    "        image_id += 1\n",
    "    \n",
    "    with open(output_path, \"w\") as outfile:\n",
    "        json.dump(coco, outfile, indent=4)"
   ]
  },
  {
   "cell_type": "code",
   "execution_count": 13,
   "metadata": {},
   "outputs": [],
   "source": [
    "IMAGES_PATH = \"hand_labeled/\"\n",
    "LABELS_PATH = \"im_labels_2/\"\n",
    "! mkdir {LABELS_PATH}\n",
    "output_dir = Path(LABELS_PATH)\n",
    "\n",
    "def annotate(img_size : int, overlap : float = 0.25):\n",
    "  for i, file_path in enumerate(Path(IMAGES_PATH).glob(\"*\")):\n",
    "    if file_path.suffix.lower() in [\".jpg\", \".jpeg\"]:\n",
    "      raster = m.predict_tile(IMAGES_PATH+file_path.name, return_plot = True, patch_size=min(img_size, 400),patch_overlap=overlap)\n",
    "      output_path = output_dir / f\"{file_path.name.split('.')[0]}.jpeg\"\n",
    "      plt.imsave(output_path, raster)\n",
    "      #create_coco_annotation_from_df(raster, img_size, output_path)\n",
    "      '''\n",
    "      plt.figure(figsize=(15, 15))\n",
    "      plt.subplot(5, 5, i+1)\n",
    "      plt.xticks([])\n",
    "      plt.yticks([])\n",
    "      plt.grid(False)\n",
    "      if img is not None:\n",
    "        plt.imshow(img[:,:,::-1])\n",
    "      '''\n",
    "  clear_output()\n",
    "  print(\"Annotations done\")   \n",
    "  #plt.show()"
   ]
  },
  {
   "cell_type": "code",
   "execution_count": 14,
   "metadata": {},
   "outputs": [
    {
     "name": "stdout",
     "output_type": "stream",
     "text": [
      "Annotations done\n"
     ]
    }
   ],
   "source": [
    "annotate(1024, 0.25)"
   ]
  },
  {
   "cell_type": "code",
   "execution_count": null,
   "metadata": {},
   "outputs": [],
   "source": [
    "a = m.predict_tile(\"images/\"+\"2_29.jpeg\", return_plot = True, patch_size=256,patch_overlap=0.25)\n",
    "plt.imshow(a)"
   ]
  }
 ],
 "metadata": {
  "kernelspec": {
   "display_name": "myenv",
   "language": "python",
   "name": "python3"
  },
  "language_info": {
   "codemirror_mode": {
    "name": "ipython",
    "version": 3
   },
   "file_extension": ".py",
   "mimetype": "text/x-python",
   "name": "python",
   "nbconvert_exporter": "python",
   "pygments_lexer": "ipython3",
   "version": "3.12.3"
  }
 },
 "nbformat": 4,
 "nbformat_minor": 2
}
